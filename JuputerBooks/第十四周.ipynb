{
 "cells": [
  {
   "cell_type": "markdown",
   "metadata": {
    "pycharm": {
     "name": "#%% md\n"
    }
   },
   "source": [
    "1. 使用 Pandas 网络数据阅读器从雅虎财经获取金融数据\n"
   ]
  },
  {
   "cell_type": "code",
   "execution_count": 37,
   "metadata": {
    "notebookRunGroups": {
     "groupValue": ""
    },
    "pycharm": {
     "name": "#%%\n"
    }
   },
   "outputs": [],
   "source": [
    "import pandas as pd  # 网络数据阅读器\n",
    "import datetime\n",
    "import pandas_datareader.data as web\n",
    "from pandas import Series, DataFrame\n",
    "start = datetime.datetime(2021, 5, 27)  # 开始时间\n",
    "end = datetime.datetime(2022, 5, 26)  # 结束时间\n",
    "# 从雅虎获取数据，雅虎已经停止向大陆提供服务，需要连接代理使用该方法。\n",
    "df = web.DataReader(\"TSLA\", 'yahoo', start, end)\n"
   ]
  },
  {
   "cell_type": "code",
   "execution_count": 38,
   "metadata": {
    "notebookRunGroups": {
     "groupValue": ""
    },
    "pycharm": {
     "name": "#%%\n"
    }
   },
   "outputs": [
    {
     "data": {
      "text/html": [
       "<div>\n",
       "<style scoped>\n",
       "    .dataframe tbody tr th:only-of-type {\n",
       "        vertical-align: middle;\n",
       "    }\n",
       "\n",
       "    .dataframe tbody tr th {\n",
       "        vertical-align: top;\n",
       "    }\n",
       "\n",
       "    .dataframe thead th {\n",
       "        text-align: right;\n",
       "    }\n",
       "</style>\n",
       "<table border=\"1\" class=\"dataframe\">\n",
       "  <thead>\n",
       "    <tr style=\"text-align: right;\">\n",
       "      <th></th>\n",
       "      <th>High</th>\n",
       "      <th>Low</th>\n",
       "      <th>Open</th>\n",
       "      <th>Close</th>\n",
       "      <th>Volume</th>\n",
       "      <th>Adj Close</th>\n",
       "    </tr>\n",
       "    <tr>\n",
       "      <th>Date</th>\n",
       "      <th></th>\n",
       "      <th></th>\n",
       "      <th></th>\n",
       "      <th></th>\n",
       "      <th></th>\n",
       "      <th></th>\n",
       "    </tr>\n",
       "  </thead>\n",
       "  <tbody>\n",
       "    <tr>\n",
       "      <th>2022-05-20</th>\n",
       "      <td>721.580017</td>\n",
       "      <td>633.000000</td>\n",
       "      <td>713.989990</td>\n",
       "      <td>663.900024</td>\n",
       "      <td>48190600</td>\n",
       "      <td>663.900024</td>\n",
       "    </tr>\n",
       "    <tr>\n",
       "      <th>2022-05-23</th>\n",
       "      <td>679.960022</td>\n",
       "      <td>638.059998</td>\n",
       "      <td>655.020020</td>\n",
       "      <td>674.900024</td>\n",
       "      <td>29634500</td>\n",
       "      <td>674.900024</td>\n",
       "    </tr>\n",
       "    <tr>\n",
       "      <th>2022-05-24</th>\n",
       "      <td>653.919983</td>\n",
       "      <td>620.570007</td>\n",
       "      <td>653.530029</td>\n",
       "      <td>628.159973</td>\n",
       "      <td>29697500</td>\n",
       "      <td>628.159973</td>\n",
       "    </tr>\n",
       "    <tr>\n",
       "      <th>2022-05-25</th>\n",
       "      <td>669.320007</td>\n",
       "      <td>623.010010</td>\n",
       "      <td>623.849976</td>\n",
       "      <td>658.799988</td>\n",
       "      <td>30713100</td>\n",
       "      <td>658.799988</td>\n",
       "    </tr>\n",
       "    <tr>\n",
       "      <th>2022-05-26</th>\n",
       "      <td>718.669983</td>\n",
       "      <td>653.659973</td>\n",
       "      <td>661.419983</td>\n",
       "      <td>707.729980</td>\n",
       "      <td>35334400</td>\n",
       "      <td>707.729980</td>\n",
       "    </tr>\n",
       "  </tbody>\n",
       "</table>\n",
       "</div>"
      ],
      "text/plain": [
       "                  High         Low        Open       Close    Volume  \\\n",
       "Date                                                                   \n",
       "2022-05-20  721.580017  633.000000  713.989990  663.900024  48190600   \n",
       "2022-05-23  679.960022  638.059998  655.020020  674.900024  29634500   \n",
       "2022-05-24  653.919983  620.570007  653.530029  628.159973  29697500   \n",
       "2022-05-25  669.320007  623.010010  623.849976  658.799988  30713100   \n",
       "2022-05-26  718.669983  653.659973  661.419983  707.729980  35334400   \n",
       "\n",
       "             Adj Close  \n",
       "Date                    \n",
       "2022-05-20  663.900024  \n",
       "2022-05-23  674.900024  \n",
       "2022-05-24  628.159973  \n",
       "2022-05-25  658.799988  \n",
       "2022-05-26  707.729980  "
      ]
     },
     "execution_count": 38,
     "metadata": {},
     "output_type": "execute_result"
    }
   ],
   "source": [
    "df.tail()  # tail()方法一般用来对数据集进行矩阵形式的显示，默认显示为数据集的最后5行。\n"
   ]
  },
  {
   "cell_type": "markdown",
   "metadata": {
    "pycharm": {
     "name": "#%% md\n"
    }
   },
   "source": [
    "2. 观察 df 的数据和结构\n"
   ]
  },
  {
   "cell_type": "markdown",
   "metadata": {
    "pycharm": {
     "name": "#%% md\n"
    }
   },
   "source": [
    "```\n",
    "    count     254.000000 #数据数量\n",
    "    mean      857.064052 #平均数\n",
    "    std       168.881017 #标准差\n",
    "    min       572.840027 #最小值\n",
    "    25%       709.757492 #较低的百分位数\n",
    "    50%       841.630005\n",
    "    75%      1008.975006 #较高的百分位数\n",
    "    max      1229.910034 #最大值\n",
    "```"
   ]
  },
  {
   "cell_type": "code",
   "execution_count": 3,
   "metadata": {
    "pycharm": {
     "name": "#%%\n"
    }
   },
   "outputs": [
    {
     "name": "stdout",
     "output_type": "stream",
     "text": [
      "Date\n",
      "2021-05-26    619.130005\n",
      "2021-05-27    630.849976\n",
      "2021-05-28    625.219971\n",
      "2021-06-01    623.900024\n",
      "2021-06-02    605.119995\n",
      "                 ...    \n",
      "2022-05-20    663.900024\n",
      "2022-05-23    674.900024\n",
      "2022-05-24    628.159973\n",
      "2022-05-25    658.799988\n",
      "2022-05-26    707.729980\n",
      "Name: Adj Close, Length: 254, dtype: float64\n"
     ]
    }
   ],
   "source": [
    "print(df[\"Adj Close\"])\n"
   ]
  },
  {
   "cell_type": "code",
   "execution_count": 4,
   "metadata": {
    "pycharm": {
     "name": "#%%\n"
    }
   },
   "outputs": [
    {
     "name": "stdout",
     "output_type": "stream",
     "text": [
      "count     254.000000\n",
      "mean      857.064052\n",
      "std       168.881017\n",
      "min       572.840027\n",
      "25%       709.757492\n",
      "50%       841.630005\n",
      "75%      1008.975006\n",
      "max      1229.910034\n",
      "Name: Adj Close, dtype: float64\n"
     ]
    }
   ],
   "source": [
    "print(df[\"Adj Close\"].describe())"
   ]
  },
  {
   "cell_type": "markdown",
   "metadata": {
    "pycharm": {
     "name": "#%% md\n"
    }
   },
   "source": [
    "3. 使用 matplotlib 绘制股票市场曲线图\n"
   ]
  },
  {
   "cell_type": "code",
   "execution_count": 5,
   "metadata": {
    "pycharm": {
     "name": "#%%\n"
    }
   },
   "outputs": [
    {
     "data": {
      "text/plain": [
       "<matplotlib.legend.Legend at 0x20fb77ba280>"
      ]
     },
     "execution_count": 5,
     "metadata": {},
     "output_type": "execute_result"
    },
    {
     "data": {
      "image/png": "[encoded data removed]",
      "text/plain": [
       "<Figure size 576x504 with 1 Axes>"
      ]
     },
     "metadata": {},
     "output_type": "display_data"
    }
   ],
   "source": [
    "import matplotlib as mpl\n",
    "from matplotlib import style  # 绘图样式\n",
    "import matplotlib.pyplot as plt\n",
    "%matplotlib inline\n",
    "# 加上 上一行的语句可以不使用第12行的语句就生成图片\n",
    "mpl.rc(\"figure\", figsize=(8, 7))  # 自定义图形的各种默认属性，8行7列\n",
    "# mpl.__version__\n",
    "style.use('ggplot')  # ggplot代表图片主题，橙黄色就是图片的主题色\n",
    "df[\"Adj Close\"].plot(label=\"TSLA\")  # 标签是TSlA\n",
    "plt.legend()\n",
    "#plt.show()\n"
   ]
  },
  {
   "cell_type": "markdown",
   "metadata": {
    "pycharm": {
     "name": "#%% md\n"
    }
   },
   "source": [
    "4. 生成移动平均值,确定趋势\n"
   ]
  },
  {
   "cell_type": "code",
   "execution_count": 6,
   "metadata": {
    "pycharm": {
     "name": "#%%\n"
    }
   },
   "outputs": [
    {
     "data": {
      "text/html": [
       "<div>\n",
       "<style scoped>\n",
       "    .dataframe tbody tr th:only-of-type {\n",
       "        vertical-align: middle;\n",
       "    }\n",
       "\n",
       "    .dataframe tbody tr th {\n",
       "        vertical-align: top;\n",
       "    }\n",
       "\n",
       "    .dataframe thead th {\n",
       "        text-align: right;\n",
       "    }\n",
       "</style>\n",
       "<table border=\"1\" class=\"dataframe\">\n",
       "  <thead>\n",
       "    <tr style=\"text-align: right;\">\n",
       "      <th></th>\n",
       "      <th>High</th>\n",
       "      <th>Low</th>\n",
       "      <th>Open</th>\n",
       "      <th>Close</th>\n",
       "      <th>Volume</th>\n",
       "      <th>Adj Close</th>\n",
       "      <th>EMA_10</th>\n",
       "    </tr>\n",
       "    <tr>\n",
       "      <th>Date</th>\n",
       "      <th></th>\n",
       "      <th></th>\n",
       "      <th></th>\n",
       "      <th></th>\n",
       "      <th></th>\n",
       "      <th></th>\n",
       "      <th></th>\n",
       "    </tr>\n",
       "  </thead>\n",
       "  <tbody>\n",
       "    <tr>\n",
       "      <th>2021-05-26</th>\n",
       "      <td>626.169983</td>\n",
       "      <td>601.500000</td>\n",
       "      <td>607.559998</td>\n",
       "      <td>619.130005</td>\n",
       "      <td>28639300</td>\n",
       "      <td>619.130005</td>\n",
       "      <td>NaN</td>\n",
       "    </tr>\n",
       "    <tr>\n",
       "      <th>2021-05-27</th>\n",
       "      <td>631.130005</td>\n",
       "      <td>616.210022</td>\n",
       "      <td>620.239990</td>\n",
       "      <td>630.849976</td>\n",
       "      <td>26370600</td>\n",
       "      <td>630.849976</td>\n",
       "      <td>NaN</td>\n",
       "    </tr>\n",
       "    <tr>\n",
       "      <th>2021-05-28</th>\n",
       "      <td>635.590027</td>\n",
       "      <td>622.380005</td>\n",
       "      <td>628.500000</td>\n",
       "      <td>625.219971</td>\n",
       "      <td>22737000</td>\n",
       "      <td>625.219971</td>\n",
       "      <td>NaN</td>\n",
       "    </tr>\n",
       "    <tr>\n",
       "      <th>2021-06-01</th>\n",
       "      <td>633.799988</td>\n",
       "      <td>620.549988</td>\n",
       "      <td>627.799988</td>\n",
       "      <td>623.900024</td>\n",
       "      <td>18084900</td>\n",
       "      <td>623.900024</td>\n",
       "      <td>NaN</td>\n",
       "    </tr>\n",
       "    <tr>\n",
       "      <th>2021-06-02</th>\n",
       "      <td>623.359985</td>\n",
       "      <td>599.140015</td>\n",
       "      <td>620.130005</td>\n",
       "      <td>605.119995</td>\n",
       "      <td>23302800</td>\n",
       "      <td>605.119995</td>\n",
       "      <td>NaN</td>\n",
       "    </tr>\n",
       "    <tr>\n",
       "      <th>...</th>\n",
       "      <td>...</td>\n",
       "      <td>...</td>\n",
       "      <td>...</td>\n",
       "      <td>...</td>\n",
       "      <td>...</td>\n",
       "      <td>...</td>\n",
       "      <td>...</td>\n",
       "    </tr>\n",
       "    <tr>\n",
       "      <th>2022-05-20</th>\n",
       "      <td>721.580017</td>\n",
       "      <td>633.000000</td>\n",
       "      <td>713.989990</td>\n",
       "      <td>663.900024</td>\n",
       "      <td>48190600</td>\n",
       "      <td>663.900024</td>\n",
       "      <td>746.346567</td>\n",
       "    </tr>\n",
       "    <tr>\n",
       "      <th>2022-05-23</th>\n",
       "      <td>679.960022</td>\n",
       "      <td>638.059998</td>\n",
       "      <td>655.020020</td>\n",
       "      <td>674.900024</td>\n",
       "      <td>29634500</td>\n",
       "      <td>674.900024</td>\n",
       "      <td>733.356286</td>\n",
       "    </tr>\n",
       "    <tr>\n",
       "      <th>2022-05-24</th>\n",
       "      <td>653.919983</td>\n",
       "      <td>620.570007</td>\n",
       "      <td>653.530029</td>\n",
       "      <td>628.159973</td>\n",
       "      <td>29697500</td>\n",
       "      <td>628.159973</td>\n",
       "      <td>714.229684</td>\n",
       "    </tr>\n",
       "    <tr>\n",
       "      <th>2022-05-25</th>\n",
       "      <td>669.320007</td>\n",
       "      <td>623.010010</td>\n",
       "      <td>623.849976</td>\n",
       "      <td>658.799988</td>\n",
       "      <td>30713100</td>\n",
       "      <td>658.799988</td>\n",
       "      <td>704.151557</td>\n",
       "    </tr>\n",
       "    <tr>\n",
       "      <th>2022-05-26</th>\n",
       "      <td>718.669983</td>\n",
       "      <td>653.659973</td>\n",
       "      <td>661.419983</td>\n",
       "      <td>707.729980</td>\n",
       "      <td>35334400</td>\n",
       "      <td>707.729980</td>\n",
       "      <td>704.802180</td>\n",
       "    </tr>\n",
       "  </tbody>\n",
       "</table>\n",
       "<p>254 rows × 7 columns</p>\n",
       "</div>"
      ],
      "text/plain": [
       "                  High         Low        Open       Close    Volume  \\\n",
       "Date                                                                   \n",
       "2021-05-26  626.169983  601.500000  607.559998  619.130005  28639300   \n",
       "2021-05-27  631.130005  616.210022  620.239990  630.849976  26370600   \n",
       "2021-05-28  635.590027  622.380005  628.500000  625.219971  22737000   \n",
       "2021-06-01  633.799988  620.549988  627.799988  623.900024  18084900   \n",
       "2021-06-02  623.359985  599.140015  620.130005  605.119995  23302800   \n",
       "...                ...         ...         ...         ...       ...   \n",
       "2022-05-20  721.580017  633.000000  713.989990  663.900024  48190600   \n",
       "2022-05-23  679.960022  638.059998  655.020020  674.900024  29634500   \n",
       "2022-05-24  653.919983  620.570007  653.530029  628.159973  29697500   \n",
       "2022-05-25  669.320007  623.010010  623.849976  658.799988  30713100   \n",
       "2022-05-26  718.669983  653.659973  661.419983  707.729980  35334400   \n",
       "\n",
       "             Adj Close      EMA_10  \n",
       "Date                                \n",
       "2021-05-26  619.130005         NaN  \n",
       "2021-05-27  630.849976         NaN  \n",
       "2021-05-28  625.219971         NaN  \n",
       "2021-06-01  623.900024         NaN  \n",
       "2021-06-02  605.119995         NaN  \n",
       "...                ...         ...  \n",
       "2022-05-20  663.900024  746.346567  \n",
       "2022-05-23  674.900024  733.356286  \n",
       "2022-05-24  628.159973  714.229684  \n",
       "2022-05-25  658.799988  704.151557  \n",
       "2022-05-26  707.729980  704.802180  \n",
       "\n",
       "[254 rows x 7 columns]"
      ]
     },
     "execution_count": 6,
     "metadata": {},
     "output_type": "execute_result"
    }
   ],
   "source": [
    "import pandas_ta  # 这是一个面向股市的库,下方有更详细的介绍。\n",
    "df.ta.ema(close=\"Adj Close\", length=10, append=True)  # 数据前length长度计算移动平均值\n",
    "df\n"
   ]
  },
  {
   "cell_type": "code",
   "execution_count": null,
   "metadata": {
    "pycharm": {
     "name": "#%%\n"
    }
   },
   "outputs": [],
   "source": []
  },
  {
   "cell_type": "markdown",
   "metadata": {
    "pycharm": {
     "name": "#%% md\n"
    }
   },
   "source": [
    "###### Pandas TA 是一个易于使用的库，它建立在 Python 的 Pandas 库的基础上，具有 100 多个指标和实用程序功能。这些指标通常用于列或标签类似于以下内容的金融时间序列数据集：日期时间，开盘价，高价，低价，收盘价，交易量等。其中包括许多常用指标，例如：简单移动平均线（SMA），移动平均线收敛散度（MACD），船体指数移动平均线（HMA），布林线（BBANDS），动平衡量（OBV），Aroon 和 Aroon 振荡器（AROON）等。\n"
   ]
  },
  {
   "cell_type": "markdown",
   "metadata": {
    "pycharm": {
     "name": "#%% md\n"
    }
   },
   "source": [
    "5. 将收盘价与移动平均值一起打印，观察两者之间的关系\n"
   ]
  },
  {
   "cell_type": "code",
   "execution_count": 7,
   "metadata": {
    "pycharm": {
     "name": "#%%\n"
    }
   },
   "outputs": [
    {
     "data": {
      "text/plain": [
       "<AxesSubplot:xlabel='Date'>"
      ]
     },
     "execution_count": 7,
     "metadata": {},
     "output_type": "execute_result"
    },
    {
     "data": {
      "image/png": "[encoded data removed]",
      "text/plain": [
       "<Figure size 576x504 with 1 Axes>"
      ]
     },
     "metadata": {},
     "output_type": "display_data"
    }
   ],
   "source": [
    "#print(df[\"Adj Close\"])  # 便于查看\n",
    "df[\"Adj Close\"].plot(label=\"TSLA\")  # 用Adj Close那列数据进行画图\n"
   ]
  },
  {
   "cell_type": "markdown",
   "metadata": {
    "pycharm": {
     "name": "#%% md\n"
    }
   },
   "source": [
    "6. 计算回报偏差\n"
   ]
  },
  {
   "cell_type": "code",
   "execution_count": 8,
   "metadata": {
    "pycharm": {
     "name": "#%%\n"
    }
   },
   "outputs": [
    {
     "data": {
      "image/png": "[encoded data removed]",
      "text/plain": [
       "<Figure size 576x504 with 1 Axes>"
      ]
     },
     "metadata": {},
     "output_type": "display_data"
    }
   ],
   "source": [
    "df[\"Return\"] = df[\"Adj Close\"]/df[\"Adj Close\"].shift(1)-1\n",
    "#shift(1)将数据下降一次\n",
    "df[\"Return\"].plot(label='return')\n",
    "plt.show()\n"
   ]
  },
  {
   "cell_type": "markdown",
   "metadata": {
    "pycharm": {
     "name": "#%% md\n"
    }
   },
   "source": [
    "7. 删除前 10 行数据\n"
   ]
  },
  {
   "cell_type": "code",
   "execution_count": null,
   "metadata": {
    "pycharm": {
     "name": "#%%\n"
    }
   },
   "outputs": [],
   "source": []
  },
  {
   "cell_type": "code",
   "execution_count": 9,
   "metadata": {
    "pycharm": {
     "name": "#%%\n"
    }
   },
   "outputs": [],
   "source": [
    "# iloc函数，属于pands库，全称为index location，即对数据进行位置（location）索引（index）。\n",
    "df = df.iloc[10:]"
   ]
  },
  {
   "cell_type": "code",
   "execution_count": 10,
   "metadata": {
    "pycharm": {
     "name": "#%%\n"
    }
   },
   "outputs": [
    {
     "data": {
      "text/html": [
       "<div>\n",
       "<style scoped>\n",
       "    .dataframe tbody tr th:only-of-type {\n",
       "        vertical-align: middle;\n",
       "    }\n",
       "\n",
       "    .dataframe tbody tr th {\n",
       "        vertical-align: top;\n",
       "    }\n",
       "\n",
       "    .dataframe thead th {\n",
       "        text-align: right;\n",
       "    }\n",
       "</style>\n",
       "<table border=\"1\" class=\"dataframe\">\n",
       "  <thead>\n",
       "    <tr style=\"text-align: right;\">\n",
       "      <th></th>\n",
       "      <th>High</th>\n",
       "      <th>Low</th>\n",
       "      <th>Open</th>\n",
       "      <th>Close</th>\n",
       "      <th>Volume</th>\n",
       "      <th>Adj Close</th>\n",
       "      <th>EMA_10</th>\n",
       "      <th>Return</th>\n",
       "    </tr>\n",
       "    <tr>\n",
       "      <th>Date</th>\n",
       "      <th></th>\n",
       "      <th></th>\n",
       "      <th></th>\n",
       "      <th></th>\n",
       "      <th></th>\n",
       "      <th></th>\n",
       "      <th></th>\n",
       "      <th></th>\n",
       "    </tr>\n",
       "  </thead>\n",
       "  <tbody>\n",
       "    <tr>\n",
       "      <th>2021-06-10</th>\n",
       "      <td>616.590027</td>\n",
       "      <td>600.500000</td>\n",
       "      <td>603.880005</td>\n",
       "      <td>610.119995</td>\n",
       "      <td>23919600</td>\n",
       "      <td>610.119995</td>\n",
       "      <td>608.680821</td>\n",
       "      <td>0.018938</td>\n",
       "    </tr>\n",
       "    <tr>\n",
       "      <th>2021-06-11</th>\n",
       "      <td>612.559998</td>\n",
       "      <td>601.520020</td>\n",
       "      <td>610.229980</td>\n",
       "      <td>609.890015</td>\n",
       "      <td>16205300</td>\n",
       "      <td>609.890015</td>\n",
       "      <td>608.900674</td>\n",
       "      <td>-0.000377</td>\n",
       "    </tr>\n",
       "    <tr>\n",
       "      <th>2021-06-14</th>\n",
       "      <td>625.489990</td>\n",
       "      <td>609.179993</td>\n",
       "      <td>612.229980</td>\n",
       "      <td>617.690002</td>\n",
       "      <td>20424000</td>\n",
       "      <td>617.690002</td>\n",
       "      <td>610.498734</td>\n",
       "      <td>0.012789</td>\n",
       "    </tr>\n",
       "    <tr>\n",
       "      <th>2021-06-15</th>\n",
       "      <td>616.789978</td>\n",
       "      <td>598.229980</td>\n",
       "      <td>616.690002</td>\n",
       "      <td>599.359985</td>\n",
       "      <td>17764100</td>\n",
       "      <td>599.359985</td>\n",
       "      <td>608.473507</td>\n",
       "      <td>-0.029675</td>\n",
       "    </tr>\n",
       "    <tr>\n",
       "      <th>2021-06-16</th>\n",
       "      <td>608.500000</td>\n",
       "      <td>593.500000</td>\n",
       "      <td>597.539978</td>\n",
       "      <td>604.869995</td>\n",
       "      <td>22144100</td>\n",
       "      <td>604.869995</td>\n",
       "      <td>607.818323</td>\n",
       "      <td>0.009193</td>\n",
       "    </tr>\n",
       "    <tr>\n",
       "      <th>2021-06-17</th>\n",
       "      <td>621.469971</td>\n",
       "      <td>601.340027</td>\n",
       "      <td>601.890015</td>\n",
       "      <td>616.599976</td>\n",
       "      <td>22701400</td>\n",
       "      <td>616.599976</td>\n",
       "      <td>609.414987</td>\n",
       "      <td>0.019393</td>\n",
       "    </tr>\n",
       "    <tr>\n",
       "      <th>2021-06-18</th>\n",
       "      <td>628.349976</td>\n",
       "      <td>611.799988</td>\n",
       "      <td>613.369995</td>\n",
       "      <td>623.309998</td>\n",
       "      <td>24560900</td>\n",
       "      <td>623.309998</td>\n",
       "      <td>611.941353</td>\n",
       "      <td>0.010882</td>\n",
       "    </tr>\n",
       "    <tr>\n",
       "      <th>2021-06-21</th>\n",
       "      <td>631.390015</td>\n",
       "      <td>608.880005</td>\n",
       "      <td>624.479980</td>\n",
       "      <td>620.830017</td>\n",
       "      <td>24812700</td>\n",
       "      <td>620.830017</td>\n",
       "      <td>613.557473</td>\n",
       "      <td>-0.003979</td>\n",
       "    </tr>\n",
       "    <tr>\n",
       "      <th>2021-06-22</th>\n",
       "      <td>628.570007</td>\n",
       "      <td>615.500000</td>\n",
       "      <td>618.250000</td>\n",
       "      <td>623.710022</td>\n",
       "      <td>19158900</td>\n",
       "      <td>623.710022</td>\n",
       "      <td>615.403391</td>\n",
       "      <td>0.004639</td>\n",
       "    </tr>\n",
       "    <tr>\n",
       "      <th>2021-06-23</th>\n",
       "      <td>657.200012</td>\n",
       "      <td>630.039978</td>\n",
       "      <td>632.000000</td>\n",
       "      <td>656.570007</td>\n",
       "      <td>31099200</td>\n",
       "      <td>656.570007</td>\n",
       "      <td>622.888231</td>\n",
       "      <td>0.052685</td>\n",
       "    </tr>\n",
       "  </tbody>\n",
       "</table>\n",
       "</div>"
      ],
      "text/plain": [
       "                  High         Low        Open       Close    Volume  \\\n",
       "Date                                                                   \n",
       "2021-06-10  616.590027  600.500000  603.880005  610.119995  23919600   \n",
       "2021-06-11  612.559998  601.520020  610.229980  609.890015  16205300   \n",
       "2021-06-14  625.489990  609.179993  612.229980  617.690002  20424000   \n",
       "2021-06-15  616.789978  598.229980  616.690002  599.359985  17764100   \n",
       "2021-06-16  608.500000  593.500000  597.539978  604.869995  22144100   \n",
       "2021-06-17  621.469971  601.340027  601.890015  616.599976  22701400   \n",
       "2021-06-18  628.349976  611.799988  613.369995  623.309998  24560900   \n",
       "2021-06-21  631.390015  608.880005  624.479980  620.830017  24812700   \n",
       "2021-06-22  628.570007  615.500000  618.250000  623.710022  19158900   \n",
       "2021-06-23  657.200012  630.039978  632.000000  656.570007  31099200   \n",
       "\n",
       "             Adj Close      EMA_10    Return  \n",
       "Date                                          \n",
       "2021-06-10  610.119995  608.680821  0.018938  \n",
       "2021-06-11  609.890015  608.900674 -0.000377  \n",
       "2021-06-14  617.690002  610.498734  0.012789  \n",
       "2021-06-15  599.359985  608.473507 -0.029675  \n",
       "2021-06-16  604.869995  607.818323  0.009193  \n",
       "2021-06-17  616.599976  609.414987  0.019393  \n",
       "2021-06-18  623.309998  611.941353  0.010882  \n",
       "2021-06-21  620.830017  613.557473 -0.003979  \n",
       "2021-06-22  623.710022  615.403391  0.004639  \n",
       "2021-06-23  656.570007  622.888231  0.052685  "
      ]
     },
     "execution_count": 10,
     "metadata": {},
     "output_type": "execute_result"
    }
   ],
   "source": [
    "df.head(10)  # 输出头10个数据"
   ]
  },
  {
   "cell_type": "markdown",
   "metadata": {
    "pycharm": {
     "name": "#%% md\n"
    }
   },
   "source": [
    "8. 最高价和最低价百分比"
   ]
  },
  {
   "cell_type": "code",
   "execution_count": 11,
   "metadata": {
    "pycharm": {
     "name": "#%%\n"
    }
   },
   "outputs": [],
   "source": [
    "df_reg = df.loc[:, ['Adj Close', 'EMA_10', \"Return\"]]\n",
    "# 参数1：利用切片遍历所有标签(从high开始，到Return结束)\n",
    "# 参数2：以列表的形式对df数据操作，保留列表内的标签数据\n",
    "df_reg[\"HL_PCT\"] = (df['High']-df[\"Low\"])/df[\"Close\"]*100.0"
   ]
  },
  {
   "cell_type": "code",
   "execution_count": 12,
   "metadata": {
    "pycharm": {
     "name": "#%%\n"
    }
   },
   "outputs": [
    {
     "data": {
      "text/html": [
       "<div>\n",
       "<style scoped>\n",
       "    .dataframe tbody tr th:only-of-type {\n",
       "        vertical-align: middle;\n",
       "    }\n",
       "\n",
       "    .dataframe tbody tr th {\n",
       "        vertical-align: top;\n",
       "    }\n",
       "\n",
       "    .dataframe thead th {\n",
       "        text-align: right;\n",
       "    }\n",
       "</style>\n",
       "<table border=\"1\" class=\"dataframe\">\n",
       "  <thead>\n",
       "    <tr style=\"text-align: right;\">\n",
       "      <th></th>\n",
       "      <th>Adj Close</th>\n",
       "      <th>EMA_10</th>\n",
       "      <th>Return</th>\n",
       "      <th>HL_PCT</th>\n",
       "    </tr>\n",
       "    <tr>\n",
       "      <th>Date</th>\n",
       "      <th></th>\n",
       "      <th></th>\n",
       "      <th></th>\n",
       "      <th></th>\n",
       "    </tr>\n",
       "  </thead>\n",
       "  <tbody>\n",
       "    <tr>\n",
       "      <th>2021-06-10</th>\n",
       "      <td>610.119995</td>\n",
       "      <td>608.680821</td>\n",
       "      <td>0.018938</td>\n",
       "      <td>2.637191</td>\n",
       "    </tr>\n",
       "    <tr>\n",
       "      <th>2021-06-11</th>\n",
       "      <td>609.890015</td>\n",
       "      <td>608.900674</td>\n",
       "      <td>-0.000377</td>\n",
       "      <td>1.810159</td>\n",
       "    </tr>\n",
       "    <tr>\n",
       "      <th>2021-06-14</th>\n",
       "      <td>617.690002</td>\n",
       "      <td>610.498734</td>\n",
       "      <td>0.012789</td>\n",
       "      <td>2.640483</td>\n",
       "    </tr>\n",
       "    <tr>\n",
       "      <th>2021-06-15</th>\n",
       "      <td>599.359985</td>\n",
       "      <td>608.473507</td>\n",
       "      <td>-0.029675</td>\n",
       "      <td>3.096636</td>\n",
       "    </tr>\n",
       "    <tr>\n",
       "      <th>2021-06-16</th>\n",
       "      <td>604.869995</td>\n",
       "      <td>607.818323</td>\n",
       "      <td>0.009193</td>\n",
       "      <td>2.479872</td>\n",
       "    </tr>\n",
       "    <tr>\n",
       "      <th>...</th>\n",
       "      <td>...</td>\n",
       "      <td>...</td>\n",
       "      <td>...</td>\n",
       "      <td>...</td>\n",
       "    </tr>\n",
       "    <tr>\n",
       "      <th>2022-05-20</th>\n",
       "      <td>663.900024</td>\n",
       "      <td>746.346567</td>\n",
       "      <td>-0.064165</td>\n",
       "      <td>13.342373</td>\n",
       "    </tr>\n",
       "    <tr>\n",
       "      <th>2022-05-23</th>\n",
       "      <td>674.900024</td>\n",
       "      <td>733.356286</td>\n",
       "      <td>0.016569</td>\n",
       "      <td>6.208331</td>\n",
       "    </tr>\n",
       "    <tr>\n",
       "      <th>2022-05-24</th>\n",
       "      <td>628.159973</td>\n",
       "      <td>714.229684</td>\n",
       "      <td>-0.069255</td>\n",
       "      <td>5.309153</td>\n",
       "    </tr>\n",
       "    <tr>\n",
       "      <th>2022-05-25</th>\n",
       "      <td>658.799988</td>\n",
       "      <td>704.151557</td>\n",
       "      <td>0.048777</td>\n",
       "      <td>7.029447</td>\n",
       "    </tr>\n",
       "    <tr>\n",
       "      <th>2022-05-26</th>\n",
       "      <td>707.729980</td>\n",
       "      <td>704.802180</td>\n",
       "      <td>0.074271</td>\n",
       "      <td>9.185708</td>\n",
       "    </tr>\n",
       "  </tbody>\n",
       "</table>\n",
       "<p>244 rows × 4 columns</p>\n",
       "</div>"
      ],
      "text/plain": [
       "             Adj Close      EMA_10    Return     HL_PCT\n",
       "Date                                                   \n",
       "2021-06-10  610.119995  608.680821  0.018938   2.637191\n",
       "2021-06-11  609.890015  608.900674 -0.000377   1.810159\n",
       "2021-06-14  617.690002  610.498734  0.012789   2.640483\n",
       "2021-06-15  599.359985  608.473507 -0.029675   3.096636\n",
       "2021-06-16  604.869995  607.818323  0.009193   2.479872\n",
       "...                ...         ...       ...        ...\n",
       "2022-05-20  663.900024  746.346567 -0.064165  13.342373\n",
       "2022-05-23  674.900024  733.356286  0.016569   6.208331\n",
       "2022-05-24  628.159973  714.229684 -0.069255   5.309153\n",
       "2022-05-25  658.799988  704.151557  0.048777   7.029447\n",
       "2022-05-26  707.729980  704.802180  0.074271   9.185708\n",
       "\n",
       "[244 rows x 4 columns]"
      ]
     },
     "execution_count": 12,
     "metadata": {},
     "output_type": "execute_result"
    }
   ],
   "source": [
    "df_reg"
   ]
  },
  {
   "cell_type": "markdown",
   "metadata": {
    "pycharm": {
     "name": "#%% md\n"
    }
   },
   "source": [
    "9. 计算收盘变化率"
   ]
  },
  {
   "cell_type": "code",
   "execution_count": 13,
   "metadata": {
    "pycharm": {
     "name": "#%%\n"
    }
   },
   "outputs": [],
   "source": [
    "df_reg[\"PCT_change\"] = (df['Close']-df[\"Open\"])/df[\"Open\"]*100.0\n"
   ]
  },
  {
   "cell_type": "code",
   "execution_count": 14,
   "metadata": {
    "pycharm": {
     "name": "#%%\n"
    }
   },
   "outputs": [
    {
     "data": {
      "text/html": [
       "<div>\n",
       "<style scoped>\n",
       "    .dataframe tbody tr th:only-of-type {\n",
       "        vertical-align: middle;\n",
       "    }\n",
       "\n",
       "    .dataframe tbody tr th {\n",
       "        vertical-align: top;\n",
       "    }\n",
       "\n",
       "    .dataframe thead th {\n",
       "        text-align: right;\n",
       "    }\n",
       "</style>\n",
       "<table border=\"1\" class=\"dataframe\">\n",
       "  <thead>\n",
       "    <tr style=\"text-align: right;\">\n",
       "      <th></th>\n",
       "      <th>Adj Close</th>\n",
       "      <th>EMA_10</th>\n",
       "      <th>Return</th>\n",
       "      <th>HL_PCT</th>\n",
       "      <th>PCT_change</th>\n",
       "    </tr>\n",
       "    <tr>\n",
       "      <th>Date</th>\n",
       "      <th></th>\n",
       "      <th></th>\n",
       "      <th></th>\n",
       "      <th></th>\n",
       "      <th></th>\n",
       "    </tr>\n",
       "  </thead>\n",
       "  <tbody>\n",
       "    <tr>\n",
       "      <th>2021-06-10</th>\n",
       "      <td>610.119995</td>\n",
       "      <td>608.680821</td>\n",
       "      <td>0.018938</td>\n",
       "      <td>2.637191</td>\n",
       "      <td>1.033316</td>\n",
       "    </tr>\n",
       "    <tr>\n",
       "      <th>2021-06-11</th>\n",
       "      <td>609.890015</td>\n",
       "      <td>608.900674</td>\n",
       "      <td>-0.000377</td>\n",
       "      <td>1.810159</td>\n",
       "      <td>-0.055711</td>\n",
       "    </tr>\n",
       "    <tr>\n",
       "      <th>2021-06-14</th>\n",
       "      <td>617.690002</td>\n",
       "      <td>610.498734</td>\n",
       "      <td>0.012789</td>\n",
       "      <td>2.640483</td>\n",
       "      <td>0.891825</td>\n",
       "    </tr>\n",
       "    <tr>\n",
       "      <th>2021-06-15</th>\n",
       "      <td>599.359985</td>\n",
       "      <td>608.473507</td>\n",
       "      <td>-0.029675</td>\n",
       "      <td>3.096636</td>\n",
       "      <td>-2.810167</td>\n",
       "    </tr>\n",
       "    <tr>\n",
       "      <th>2021-06-16</th>\n",
       "      <td>604.869995</td>\n",
       "      <td>607.818323</td>\n",
       "      <td>0.009193</td>\n",
       "      <td>2.479872</td>\n",
       "      <td>1.226699</td>\n",
       "    </tr>\n",
       "    <tr>\n",
       "      <th>...</th>\n",
       "      <td>...</td>\n",
       "      <td>...</td>\n",
       "      <td>...</td>\n",
       "      <td>...</td>\n",
       "      <td>...</td>\n",
       "    </tr>\n",
       "    <tr>\n",
       "      <th>2022-05-20</th>\n",
       "      <td>663.900024</td>\n",
       "      <td>746.346567</td>\n",
       "      <td>-0.064165</td>\n",
       "      <td>13.342373</td>\n",
       "      <td>-7.015500</td>\n",
       "    </tr>\n",
       "    <tr>\n",
       "      <th>2022-05-23</th>\n",
       "      <td>674.900024</td>\n",
       "      <td>733.356286</td>\n",
       "      <td>0.016569</td>\n",
       "      <td>6.208331</td>\n",
       "      <td>3.035022</td>\n",
       "    </tr>\n",
       "    <tr>\n",
       "      <th>2022-05-24</th>\n",
       "      <td>628.159973</td>\n",
       "      <td>714.229684</td>\n",
       "      <td>-0.069255</td>\n",
       "      <td>5.309153</td>\n",
       "      <td>-3.882003</td>\n",
       "    </tr>\n",
       "    <tr>\n",
       "      <th>2022-05-25</th>\n",
       "      <td>658.799988</td>\n",
       "      <td>704.151557</td>\n",
       "      <td>0.048777</td>\n",
       "      <td>7.029447</td>\n",
       "      <td>5.602310</td>\n",
       "    </tr>\n",
       "    <tr>\n",
       "      <th>2022-05-26</th>\n",
       "      <td>707.729980</td>\n",
       "      <td>704.802180</td>\n",
       "      <td>0.074271</td>\n",
       "      <td>9.185708</td>\n",
       "      <td>7.001602</td>\n",
       "    </tr>\n",
       "  </tbody>\n",
       "</table>\n",
       "<p>244 rows × 5 columns</p>\n",
       "</div>"
      ],
      "text/plain": [
       "             Adj Close      EMA_10    Return     HL_PCT  PCT_change\n",
       "Date                                                               \n",
       "2021-06-10  610.119995  608.680821  0.018938   2.637191    1.033316\n",
       "2021-06-11  609.890015  608.900674 -0.000377   1.810159   -0.055711\n",
       "2021-06-14  617.690002  610.498734  0.012789   2.640483    0.891825\n",
       "2021-06-15  599.359985  608.473507 -0.029675   3.096636   -2.810167\n",
       "2021-06-16  604.869995  607.818323  0.009193   2.479872    1.226699\n",
       "...                ...         ...       ...        ...         ...\n",
       "2022-05-20  663.900024  746.346567 -0.064165  13.342373   -7.015500\n",
       "2022-05-23  674.900024  733.356286  0.016569   6.208331    3.035022\n",
       "2022-05-24  628.159973  714.229684 -0.069255   5.309153   -3.882003\n",
       "2022-05-25  658.799988  704.151557  0.048777   7.029447    5.602310\n",
       "2022-05-26  707.729980  704.802180  0.074271   9.185708    7.001602\n",
       "\n",
       "[244 rows x 5 columns]"
      ]
     },
     "execution_count": 14,
     "metadata": {},
     "output_type": "execute_result"
    }
   ],
   "source": [
    "df_reg"
   ]
  },
  {
   "cell_type": "markdown",
   "metadata": {
    "pycharm": {
     "name": "#%% md\n"
    }
   },
   "source": [
    "10. 预处理\n",
    "\n",
    "- 在将数据放⼊预测模型之前，我们将对数据进⾏标准化，使每个样本都可以具有相同的线性回归分布。"
   ]
  },
  {
   "cell_type": "code",
   "execution_count": 15,
   "metadata": {
    "pycharm": {
     "name": "#%%\n"
    }
   },
   "outputs": [],
   "source": [
    "from sklearn.preprocessing import scale\n",
    "import math\n",
    "import numpy as np"
   ]
  },
  {
   "cell_type": "code",
   "execution_count": 16,
   "metadata": {
    "pycharm": {
     "name": "#%%\n"
    }
   },
   "outputs": [
    {
     "name": "stderr",
     "output_type": "stream",
     "text": [
      "C:\\Users\\tianjianxiang\\AppData\\Local\\Temp\\ipykernel_3032\\2546948064.py:1: FutureWarning: In a future version of pandas all arguments of DataFrame.drop except for the argument 'labels' will be keyword-only.\n",
      "  X = np.array(df_reg.drop([\"EMA_10\"],1))\n"
     ]
    }
   ],
   "source": [
    "X = np.array(df_reg.drop([\"EMA_10\"],1))\n",
    "# 将ema_10这⼀列去掉，剩余的作为训练数据x\n"
   ]
  },
  {
   "cell_type": "code",
   "execution_count": 17,
   "metadata": {
    "pycharm": {
     "name": "#%%\n"
    }
   },
   "outputs": [
    {
     "name": "stdout",
     "output_type": "stream",
     "text": [
      "[[ 6.10119995e+02  1.89384503e-02  2.63719055e+00  1.03331625e+00]\n",
      " [ 6.09890015e+02 -3.76943012e-04  1.81015884e+00 -5.57110977e-02]\n",
      " [ 6.17690002e+02  1.27891712e-02  2.64048268e+00  8.91825318e-01]\n",
      " [ 5.99359985e+02 -2.96751073e-02  3.09663608e+00 -2.81016670e+00]\n",
      " [ 6.04869995e+02  9.19315587e-03  2.47987173e+00  1.22669903e+00]\n",
      " [ 6.16599976e+02  1.93925646e-02  3.26466828e+00  2.44396162e+00]\n",
      " [ 6.23309998e+02  1.08822936e-02  2.65517766e+00  1.62055570e+00]\n",
      " [ 6.20830017e+02 -3.97872724e-03  3.62579275e+00 -5.84480447e-01]\n",
      " [ 6.23710022e+02  4.63895882e-03  2.09552626e+00  8.83141443e-01]\n",
      " [ 6.56570007e+02  5.26847160e-02  4.13665472e+00  3.88765939e+00]\n",
      " [ 6.79820007e+02  3.54113038e-02  4.41440520e+00  7.15568699e-01]\n",
      " [ 6.71869995e+02 -1.16942898e-02  3.73732799e+00 -2.56823306e+00]\n",
      " [ 6.88719971e+02  2.50792202e-02  3.53990096e+00  2.54302241e+00]\n",
      " [ 6.80760010e+02 -1.15576160e-02  1.70691506e+00 -5.68175639e-01]\n",
      " [ 6.79700012e+02 -1.55707965e-03  2.15830258e+00 -1.02986778e-02]\n",
      " [ 6.77919983e+02 -2.61884547e-03  2.24067778e+00 -8.77295612e-01]\n",
      " [ 6.78900024e+02  1.44565956e-03  3.93872283e+00 -1.17759075e-02]\n",
      " [ 6.59580017e+02 -2.84578091e-02  4.94253536e+00 -3.24624902e+00]\n",
      " [ 6.44650024e+02 -2.26356049e-02  4.24726655e+00 -2.95361744e+00]\n",
      " [ 6.52809998e+02  1.26579894e-02  5.20365356e+00  3.88942862e+00]\n",
      " [ 6.56950012e+02  6.34183708e-03  2.16454379e+00  5.77179273e-01]\n",
      " [ 6.85700012e+02  4.37628426e-02  3.65757863e+00  3.54877674e+00]\n",
      " [ 6.68539978e+02 -2.50255708e-02  4.03566614e+00 -2.59063252e+00]\n",
      " [ 6.53380005e+02 -2.26762402e-02  3.94409965e+00 -2.58963774e+00]\n",
      " [ 6.50599976e+02 -4.25484293e-03  4.34368442e+00 -1.18319520e+00]\n",
      " [ 6.44219971e+02 -9.80634049e-03  2.25078400e+00 -1.59773051e+00]\n",
      " [ 6.46219971e+02  3.10452965e-03  4.00947593e+00  2.59250912e+00]\n",
      " [ 6.60500000e+02  2.20977840e-02  3.31415816e+00  1.30523626e+00]\n",
      " [ 6.55289978e+02 -7.88799693e-03  2.22344425e+00 -6.54933585e-01]\n",
      " [ 6.49260010e+02 -9.20198456e-03  2.70615887e+00 -1.09377744e+00]\n",
      " [ 6.43380005e+02 -9.05647167e-03  1.78743509e+00 -4.61040370e-01]\n",
      " [ 6.57619995e+02  2.21330942e-02  3.20702336e+00  1.02155625e+00]\n",
      " [ 6.44780029e+02 -1.95249018e-02  6.08889978e+00 -2.80675225e+00]\n",
      " [ 6.46979980e+02  3.41194062e-03  2.40655766e+00 -3.09420885e-03]\n",
      " [ 6.77349976e+02  4.69411667e-02  5.15095828e+00  4.24137006e+00]\n",
      " [ 6.87200012e+02  1.45420196e-02  4.15163399e+00  2.29844025e+00]\n",
      " [ 7.09669983e+02  3.26978613e-02  4.02158450e+00  1.38142613e+00]\n",
      " [ 7.09739990e+02  9.86477178e-05  3.04900597e+00 -1.28790122e+00]\n",
      " [ 7.10919983e+02  1.66257037e-03  2.24638948e+00 -1.12541617e-02]\n",
      " [ 7.14630005e+02  5.21862103e-03  1.33496201e+00 -1.91340100e-01]\n",
      " [ 6.99099976e+02 -2.17315663e-02  2.67486953e+00 -1.79801214e+00]\n",
      " [ 7.13760010e+02  2.09698680e-02  1.94743670e+00  5.05516558e-01]\n",
      " [ 7.09989990e+02 -5.28191476e-03  2.07186329e+00 -5.60231944e-01]\n",
      " [ 7.07820007e+02 -3.05635705e-03  1.54982490e+00 -6.86115601e-01]\n",
      " [ 7.22250000e+02  2.03865284e-02  3.23987032e+00  2.25245244e+00]\n",
      " [ 7.17169983e+02 -7.03359929e-03  2.16963871e+00 -9.03682257e-01]\n",
      " [ 6.86169983e+02 -4.32254566e-02  4.82387403e+00 -2.68058834e+00]\n",
      " [ 6.65710022e+02 -2.98176275e-02  3.86654690e+00 -1.03320421e+00]\n",
      " [ 6.88989990e+02  3.49701334e-02  3.83460490e+00  2.87271224e+00]\n",
      " [ 6.73469971e+02 -2.25257547e-02  2.81526449e+00 -6.98906108e-01]\n",
      " [ 6.80260010e+02  1.00821705e-02  2.70925711e+00 -3.79287679e-01]\n",
      " [ 7.06299988e+02  3.82794485e-02  4.44287207e+00  3.04329851e+00]\n",
      " [ 7.08489990e+02  3.10066895e-03  1.77560110e+00 -3.08155916e-01]\n",
      " [ 7.11200012e+02  3.82506741e-03  1.82367414e+00  5.89788656e-01]\n",
      " [ 7.01159973e+02 -1.41170401e-02  2.53580210e+00 -1.00944847e+00]\n",
      " [ 7.11919983e+02  1.53460126e-02  1.81200482e+00  9.81557860e-01]\n",
      " [ 7.30909973e+02  2.66743324e-02  2.49962652e+00  2.26522318e+00]\n",
      " [ 7.35719971e+02  6.58083449e-03  1.89610351e+00  3.71073766e-01]\n",
      " [ 7.34090027e+02 -2.21544054e-03  1.46030736e+00  1.36357964e-03]\n",
      " [ 7.32390015e+02 -2.31580889e-03  1.42410362e+00 -2.87268258e-01]\n",
      " [ 7.33570007e+02  1.61115342e-03  1.33593082e+00  1.80267303e-01]\n",
      " [ 7.52919983e+02  2.63778172e-02  2.78117236e+00  1.74594364e+00]\n",
      " [ 7.53869995e+02  1.26177048e-03  3.14112418e+00 -1.01237188e+00]\n",
      " [ 7.54859985e+02  1.31321082e-03  1.38700831e+00  1.92459917e-01]\n",
      " [ 7.36270020e+02 -2.46270384e-02  3.81517175e+00 -3.07134766e+00]\n",
      " [ 7.43000000e+02  9.14064173e-03  4.83580804e+00  3.76917084e-01]\n",
      " [ 7.44489990e+02  2.00537044e-03  2.42715772e+00  2.58559178e-01]\n",
      " [ 7.55830017e+02  1.52319400e-02  2.44764029e+00  1.45369357e+00]\n",
      " [ 7.56989990e+02  1.53470108e-03  1.49275260e+00  5.52578012e-01]\n",
      " [ 7.59489990e+02  3.30255358e-03  1.45360415e+00  3.09049164e-01]\n",
      " [ 7.30169983e+02 -3.86048634e-02  3.20199480e+00 -5.97638677e-01]\n",
      " [ 7.39380005e+02  1.26135314e-02  1.93405119e+00  6.24671946e-01]\n",
      " [ 7.51940002e+02  1.69872021e-02  1.93499318e+00  1.13108722e+00]\n",
      " [ 7.53640015e+02  2.26083491e-03  1.36405036e+00 -1.80130510e-01]\n",
      " [ 7.74390015e+02  2.75330391e-02  3.90500777e+00  3.82093867e+00]\n",
      " [ 7.91359985e+02  2.19139844e-02  3.75176948e+00  2.35927027e+00]\n",
      " [ 7.77559998e+02 -1.74383189e-02  3.78877798e+00 -1.22459534e+00]\n",
      " [ 7.81309998e+02  4.82277896e-03  2.92073663e+00  1.93640650e-01]\n",
      " [ 7.75479980e+02 -7.46184883e-03  1.82209796e+00 -7.06788672e-01]\n",
      " [ 7.75219971e+02 -3.35288817e-04  2.21743545e+00 -4.08537206e-01]\n",
      " [ 7.81530029e+02  8.13970077e-03  3.94738199e+00 -1.87946901e+00]\n",
      " [ 7.80590027e+02 -1.20277201e-03  2.96057912e+00 -5.36437437e-01]\n",
      " [ 7.82750000e+02  2.76710318e-03  1.71702363e+00  8.43853091e-01]\n",
      " [ 7.93609985e+02  1.38741429e-02  2.72425946e+00  1.03760384e+00]\n",
      " [ 7.85489990e+02 -1.02317199e-02  1.96947535e+00 -1.34638242e+00]\n",
      " [ 7.91940002e+02  8.21145054e-03  1.98752307e+00  5.44655354e-01]\n",
      " [ 8.05719971e+02  1.74002680e-02  1.95477344e+00  5.98052023e-01]\n",
      " [ 8.11080017e+02  6.65249290e-03  1.18729887e+00  7.52706959e-02]\n",
      " [ 8.18320007e+02  8.92635755e-03  8.43193904e-01  3.47032719e-01]\n",
      " [ 8.43030029e+02  3.01960379e-02  2.47441321e+00  2.34176309e+00]\n",
      " [ 8.70109985e+02  3.21221725e-02  2.73414160e+00  2.15076578e+00]\n",
      " [ 8.64270020e+02 -6.71175589e-03  1.78647900e+00 -1.51106051e+00]\n",
      " [ 8.65799988e+02  1.77024336e-03  1.39870473e+00  5.20034922e-02]\n",
      " [ 8.94000000e+02  3.25710471e-02  4.97762864e+00  4.43925234e+00]\n",
      " [ 9.09679993e+02  1.75391417e-02  2.09304131e+00  1.58347210e+00]\n",
      " [ 1.02485999e+03  1.26615946e-01  9.83744207e+00  7.81984301e+00]\n",
      " [ 1.01842999e+03 -6.27402062e-03  9.18079197e+00 -6.10911504e-01]\n",
      " [ 1.03785999e+03  1.90783783e-02  3.86371728e+00 -1.73138215e-01]\n",
      " [ 1.07704004e+03  3.77508086e-02  2.48830571e+00  8.17176661e-01]\n",
      " [ 1.11400000e+03  3.43162367e-02  3.77019749e+00  2.97081093e+00]\n",
      " [ 1.20858997e+03  8.49102027e-02  7.53687921e+00  5.55370881e+00]\n",
      " [ 1.17200000e+03 -3.02749211e-02  5.34044077e+00  1.09025797e+00]\n",
      " [ 1.21385999e+03  3.57167111e-02  5.17110872e+00  3.10278602e+00]\n",
      " [ 1.22991003e+03  1.32223230e-02  2.15381528e+00 -3.64546615e-01]\n",
      " [ 1.22208997e+03 -6.35824421e-03  2.60782725e+00 -4.81273142e-01]\n",
      " [ 1.16293994e+03 -4.84007120e-02  5.50329365e+00  1.14367858e+00]\n",
      " [ 1.02350000e+03 -1.19902960e-01  1.59237890e+01 -1.27897051e+01]\n",
      " [ 1.06794995e+03  4.34293612e-02  8.50133266e+00  5.69471596e+00]\n",
      " [ 1.06351001e+03 -4.15744333e-03  4.72867359e+00 -3.56012669e+00]\n",
      " [ 1.03342004e+03 -2.82930725e-02  3.41584122e+00 -1.34414855e+00]\n",
      " [ 1.01339001e+03 -1.93822729e-02  5.26746900e+00 -4.16653422e-01]\n",
      " [ 1.05472998e+03  4.07937371e-02  5.21649707e+00  5.12503444e+00]\n",
      " [ 1.08901001e+03  3.25012372e-02  5.88975437e+00  2.39772073e+00]\n",
      " [ 1.09638000e+03  6.76761008e-03  3.37291635e+00 -9.19076725e-01]\n",
      " [ 1.13706006e+03  3.71039726e-02  4.04728134e+00  3.47539415e+00]\n",
      " [ 1.15687000e+03  1.74220670e-02  6.00930941e+00 -4.69742770e-01]\n",
      " [ 1.10903003e+03 -4.13529316e-02  1.06218989e+01 -5.00894896e+00]\n",
      " [ 1.11600000e+03  6.28474479e-03  6.34139960e+00  3.29603059e+00]\n",
      " [ 1.08192004e+03 -3.05375950e-02  2.56766010e+00 -1.59621702e+00]\n",
      " [ 1.13698999e+03  5.09001997e-02  3.73618967e+00  3.26978450e+00]\n",
      " [ 1.14476001e+03  6.83385043e-03  4.36772770e+00  3.40811669e-02]\n",
      " [ 1.09500000e+03 -4.34676346e-02  7.49588640e+00 -5.66037339e+00]\n",
      " [ 1.08459998e+03 -9.49773919e-03  5.19546163e+00 -1.31567724e+00]\n",
      " [ 1.01496997e+03 -6.41987889e-02  8.90370520e+00 -6.43627484e+00]\n",
      " [ 1.00901001e+03 -5.87205642e-03  7.05047660e+00  7.48869200e-01]\n",
      " [ 1.05175000e+03  4.23583412e-02  2.93415596e+00  7.23046273e-01]\n",
      " [ 1.06895996e+03  1.63631670e-02  3.68395509e+00  1.54363506e+00]\n",
      " [ 1.00379999e+03 -6.09564208e-02  5.99023766e+00 -5.35903097e+00]\n",
      " [ 1.01703003e+03  1.31799578e-02  3.78061120e+00  8.20820748e-01]\n",
      " [ 9.66409973e+02 -4.97724302e-02  5.54423263e+00 -3.46422927e+00]\n",
      " [ 9.58510010e+02 -8.17454662e-03  3.79860124e+00  1.42963066e+00]\n",
      " [ 9.75989990e+02  1.82366176e-02  5.17423339e+00  2.38981628e+00]\n",
      " [ 9.26919983e+02 -5.02771625e-02  7.88957043e+00 -6.79537628e+00]\n",
      " [ 9.32570007e+02  6.09548237e-03  5.53524076e+00  1.94584293e+00]\n",
      " [ 8.99940002e+02 -3.49893355e-02  3.14465272e+00 -1.18150979e+00]\n",
      " [ 9.38530029e+02  4.28806662e-02  5.68761821e+00  2.36238881e+00]\n",
      " [ 1.00887000e+03  7.49469528e-02  5.80946858e+00  4.47466222e+00]\n",
      " [ 1.06700000e+03  5.76189253e-02  7.06841452e+00  5.97934177e+00]\n",
      " [ 1.09393994e+03  2.52483050e-02  4.23058228e+00  1.88790752e+00]\n",
      " [ 1.08846997e+03 -5.00024772e-03  3.72816496e+00 -1.89456595e+00]\n",
      " [ 1.08618994e+03 -2.09471033e-03  3.66970673e+00 -1.13322590e+00]\n",
      " [ 1.07033997e+03 -1.45922688e-02  3.96136048e+00  8.48935782e-01]\n",
      " [ 1.05678003e+03 -1.26688127e-02  2.59373128e+00 -1.55201157e+00]\n",
      " [ 1.19978003e+03  1.35316713e-01  5.42015250e+00  4.53321972e+00]\n",
      " [ 1.14958997e+03 -4.18327212e-02  7.38958704e+00 -3.35926034e+00]\n",
      " [ 1.08812000e+03 -5.34712137e-02  8.20956847e+00 -5.10443710e+00]\n",
      " [ 1.06469995e+03 -2.15234019e-02  6.33981432e+00 -1.14206582e+00]\n",
      " [ 1.02695996e+03 -3.54465971e-02  6.90679836e+00 -4.94367989e+00]\n",
      " [ 1.05812000e+03  3.03420146e-02  7.47552035e+00  5.81199951e+00]\n",
      " [ 1.06440002e+03  5.93508234e-03  3.47895795e+00  1.01834351e+00]\n",
      " [ 1.10621997e+03  3.92896893e-02  3.81931272e+00  2.53696026e+00]\n",
      " [ 1.03156006e+03 -6.74910181e-02  8.63351928e+00 -6.98872852e+00]\n",
      " [ 1.04960999e+03  1.74976984e-02  3.67946148e+00  2.91504690e+00]\n",
      " [ 1.03051001e+03 -1.81972122e-02  5.31096651e+00  3.79893481e-01]\n",
      " [ 9.95650024e+02 -3.38278959e-02  5.99307412e+00 -4.42157013e+00]\n",
      " [ 9.96270020e+02  6.22703864e-04  4.78384707e+00 -1.33302578e+00]\n",
      " [ 9.43900024e+02 -5.25660655e-02  6.78567498e+00 -5.26326365e+00]\n",
      " [ 9.30000000e+02 -1.47261617e-02  8.82150958e+00  2.78968897e+00]\n",
      " [ 9.18400024e+02 -1.24730920e-02  5.23192362e+00  4.59419400e-01]\n",
      " [ 9.37409973e+02  2.06989854e-02  8.71443710e+00 -1.57702085e+00]\n",
      " [ 8.29099976e+02 -1.15541759e-01  1.28319886e+01 -1.11703964e+01]\n",
      " [ 8.46349976e+02  2.08056935e-02  7.73793255e+00  1.77858219e+00]\n",
      " [ 9.36719971e+02  1.06776154e-01  8.10701221e+00  7.33461827e+00]\n",
      " [ 9.31250000e+02 -5.83949406e-03  4.15570601e+00 -4.23436648e-01]\n",
      " [ 9.05659973e+02 -2.74792235e-02  4.64744254e+00 -2.42625565e+00]\n",
      " [ 8.91140015e+02 -1.60324613e-02  6.33794685e+00  1.03628284e+00]\n",
      " [ 9.23320007e+02  3.61110400e-02  5.99250711e+00  2.90898971e+00]\n",
      " [ 9.07340027e+02 -1.73070878e-02  4.96616442e+00 -1.78070249e+00]\n",
      " [ 9.22000000e+02  1.61570885e-02  3.41540024e+00  1.81882104e+00]\n",
      " [ 9.32000000e+02  1.08459870e-02  2.81867162e+00 -3.20855615e-01]\n",
      " [ 9.04549988e+02 -2.94528028e-02  5.20811298e+00 -4.20534292e-01]\n",
      " [ 8.60000000e+02 -4.92509960e-02  7.58837323e+00 -5.45606506e+00]\n",
      " [ 8.75760010e+02  1.83255928e-02  5.22174796e+00  1.64699355e+00]\n",
      " [ 9.22429993e+02  5.32908358e-02  3.21108326e+00  2.49222141e+00]\n",
      " [ 9.23390015e+02  1.04075321e-03  2.73123710e+00  1.02182889e+00]\n",
      " [ 8.76349976e+02 -5.09427634e-02  5.06647180e+00 -4.04156908e+00]\n",
      " [ 8.56979980e+02 -2.21030361e-02  5.74809341e+00 -3.27539724e+00]\n",
      " [ 8.21530029e+02 -4.13661369e-02  6.77151204e+00 -1.51055297e+00]\n",
      " [ 7.64039978e+02 -6.99792451e-02  9.78220936e+00 -7.99465521e+00]\n",
      " [ 8.00770020e+02  4.80734550e-02  1.27976795e+01  1.43320154e+01]\n",
      " [ 8.09869995e+02  1.13640313e-02  4.58097915e+00  7.90893397e-02]\n",
      " [ 8.70429993e+02  7.47774309e-02  7.14014497e+00  6.79991439e+00]\n",
      " [ 8.64369995e+02 -6.96207347e-03  4.17644941e+00 -6.10569129e-01]\n",
      " [ 8.79890015e+02  1.79552965e-02  4.79718604e+00  8.89776722e-01]\n",
      " [ 8.39289978e+02 -4.61421723e-02  6.41494933e+00 -4.49264775e+00]\n",
      " [ 8.38289978e+02 -1.19148331e-03  3.63717235e+00 -1.27311246e+00]\n",
      " [ 8.04580017e+02 -4.02127686e-02  7.65244053e+00 -6.03993594e+00]\n",
      " [ 8.24400024e+02  2.46339791e-02  8.22658968e+00  3.62902644e+00]\n",
      " [ 8.58969971e+02  4.19334610e-02  3.32374690e+00  2.32167421e+00]\n",
      " [ 8.38299988e+02 -2.40636851e-02  5.25945694e+00 -1.54442706e+00]\n",
      " [ 7.95349976e+02 -5.12346568e-02  6.29030864e+00 -5.33801904e+00]\n",
      " [ 7.66369995e+02 -3.64367654e-02  5.82747687e+00 -1.82421318e+00]\n",
      " [ 8.01890015e+02  4.63483954e-02  6.11056368e+00  3.43364176e+00]\n",
      " [ 8.40229980e+02  4.78120005e-02  4.72965630e+00  3.86031897e+00]\n",
      " [ 8.71599976e+02  3.73350105e-02  5.65397323e+00  4.88694038e+00]\n",
      " [ 9.05390015e+02  3.87678293e-02  4.46878807e+00  3.53349092e+00]\n",
      " [ 9.21159973e+02  1.74178622e-02  3.88205630e+00  6.75423813e-01]\n",
      " [ 9.93979980e+02  7.90525093e-02  7.65709439e+00  6.87956779e+00]\n",
      " [ 9.99109985e+02  5.16107465e-03  6.43572056e+00  1.95624047e+00]\n",
      " [ 1.01391998e+03  1.48231904e-02  3.52000188e+00  4.14962666e-01]\n",
      " [ 1.01064001e+03 -3.23493798e-03  2.42222553e+00  2.61906215e-01]\n",
      " [ 1.09183997e+03  8.03450784e-02  4.05554208e+00  2.51056153e+00]\n",
      " [ 1.09956995e+03  7.07977424e-03  3.78875708e+00 -7.59938629e-01]\n",
      " [ 1.09398999e+03 -5.07467131e-03  2.73768055e+00  2.58433257e-01]\n",
      " [ 1.07759998e+03 -1.49818689e-02  2.45916858e+00 -1.55037791e+00]\n",
      " [ 1.08458997e+03  6.48662806e-03  2.59176152e+00  3.18174289e-01]\n",
      " [ 1.14544995e+03  5.61133583e-02  6.75542435e+00  5.14695937e+00]\n",
      " [ 1.09126001e+03 -4.73088688e-02  6.00864558e+00 -3.96374524e+00]\n",
      " [ 1.04576001e+03 -4.16949211e-02  4.90552788e+00 -2.58134477e+00]\n",
      " [ 1.05726001e+03  1.09967869e-02  5.20685425e+00  4.62755732e-01]\n",
      " [ 1.02548999e+03 -3.00493911e-02  2.53536741e+00 -1.69860060e+00]\n",
      " [ 9.75929993e+02 -4.83281144e-02  3.46643267e+00 -4.55939578e-01]\n",
      " [ 9.86950012e+02  1.12918136e-02  4.51796203e+00 -1.07152904e+00]\n",
      " [ 1.02237000e+03  3.58883251e-02  5.19772831e+00  4.20862491e+00]\n",
      " [ 9.85000000e+02 -3.65523199e-02  3.09847914e+00 -1.43001314e+00]\n",
      " [ 1.00428998e+03  1.95837340e-02  4.13326934e+00  1.54292067e+00]\n",
      " [ 1.02815002e+03  2.37581246e-02  3.85254325e+00  2.29737796e+00]\n",
      " [ 9.77200012e+02 -4.95550367e-02  6.01207524e+00 -5.12621241e+00]\n",
      " [ 1.00878003e+03  3.23168407e-02  9.49661819e+00 -6.13642053e+00]\n",
      " [ 1.00504999e+03 -3.69757667e-03  4.06447202e+00 -9.71513298e-01]\n",
      " [ 9.98020020e+02 -6.99464539e-03  3.33861112e+00  1.94592780e+00]\n",
      " [ 8.76419983e+02 -1.21841280e-01  1.42625685e+01 -1.19556383e+01]\n",
      " [ 8.81510010e+02  5.80774852e-03  4.61027262e+00 -1.89966469e+00]\n",
      " [ 8.77510010e+02 -4.53766827e-03  8.92297375e+00 -2.49671895e+00]\n",
      " [ 8.70760010e+02 -7.69221995e-03  7.39584084e+00 -3.49016240e+00]\n",
      " [ 9.02940002e+02  3.69562133e-02  6.46000353e+00  4.89909987e+00]\n",
      " [ 9.09250000e+02  6.98828000e-03  3.90321586e+00  6.72070614e-01]\n",
      " [ 9.52619995e+02  4.76986474e-02  7.37124678e+00  5.38531236e+00]\n",
      " [ 8.73280029e+02 -8.32860597e-02  1.00654957e+01 -7.00091466e+00]\n",
      " [ 8.65650024e+02 -8.73718009e-03  5.18570015e+00 -2.40698710e+00]\n",
      " [ 7.87109985e+02 -9.07295522e-02  8.19199117e+00 -5.89874184e+00]\n",
      " [ 8.00039978e+02  1.64271740e-02  6.38842892e+00 -2.35198150e+00]\n",
      " [ 7.34000000e+02 -8.25458475e-02  1.12493198e+01 -7.67295597e+00]\n",
      " [ 7.28000000e+02 -8.17438692e-03  1.09423040e+01  3.85164051e+00]\n",
      " [ 7.69590027e+02  5.71291578e-02  4.64922452e+00 -5.02915875e-01]\n",
      " [ 7.24369995e+02 -5.87585989e-02  6.99504166e+00 -5.57771254e+00]\n",
      " [ 7.61609985e+02  5.14101778e-02  4.67824813e+00  1.90671166e+00]\n",
      " [ 7.09809998e+02 -6.80137981e-02  8.40929300e+00 -4.66206698e+00]\n",
      " [ 7.09419983e+02 -5.49463448e-04  5.62290542e+00  3.42288955e-01]\n",
      " [ 6.63900024e+02 -6.41650357e-02  1.33423729e+01 -7.01549973e+00]\n",
      " [ 6.74900024e+02  1.65687597e-02  6.20833055e+00  3.03502249e+00]\n",
      " [ 6.28159973e+02 -6.92547779e-02  5.30915324e+00 -3.88200312e+00]\n",
      " [ 6.58799988e+02  4.87774070e-02  7.02944724e+00  5.60231042e+00]\n",
      " [ 7.07729980e+02  7.42713928e-02  9.18570805e+00  7.00160242e+00]]\n"
     ]
    }
   ],
   "source": [
    "print(X)"
   ]
  },
  {
   "cell_type": "code",
   "execution_count": 18,
   "metadata": {
    "pycharm": {
     "name": "#%%\n"
    }
   },
   "outputs": [],
   "source": [
    "X = scale(X)\n",
    "# 对x进⾏标准化 (X-mean)/std\n"
   ]
  },
  {
   "cell_type": "code",
   "execution_count": 19,
   "metadata": {
    "pycharm": {
     "name": "#%%\n"
    }
   },
   "outputs": [
    {
     "name": "stdout",
     "output_type": "stream",
     "text": [
      "[[-1.56711656e+00  4.74405873e-01 -7.97037271e-01  3.15104173e-01]\n",
      " [-1.56851818e+00 -4.72773555e-02 -1.12225912e+00 -7.80390186e-03]\n",
      " [-1.52098126e+00  3.08321976e-01 -7.95742673e-01  2.73150622e-01]\n",
      " [-1.63269329e+00 -8.38582025e-01 -6.16364968e-01 -8.24528989e-01]\n",
      " [-1.59911261e+00  2.11198359e-01 -8.58901305e-01  3.72444202e-01]\n",
      " [-1.52762442e+00  4.86670900e-01 -5.50288005e-01  7.33375377e-01]\n",
      " [-1.48673028e+00  2.56819735e-01 -7.89964023e-01  4.89226854e-01]\n",
      " [-1.50184449e+00 -1.44556784e-01 -4.08279465e-01 -1.64589581e-01]\n",
      " [-1.48429234e+00  8.81955194e-02 -1.01004127e+00  2.70575761e-01]\n",
      " [-1.28402763e+00  1.38584788e+00 -2.07388170e-01  1.16144697e+00]\n",
      " [-1.14233084e+00  9.19315861e-01 -9.81656043e-02  2.20888678e-01]\n",
      " [-1.19078208e+00 -3.52943926e-01 -3.64419364e-01 -7.52793117e-01]\n",
      " [-1.08809014e+00  6.40259948e-01 -4.42055541e-01  7.62747943e-01]\n",
      " [-1.13660201e+00 -3.49252546e-01 -1.16285869e+00 -1.59755034e-01]\n",
      " [-1.14306215e+00 -7.91512854e-02 -9.85355116e-01  5.66135876e-03]\n",
      " [-1.15391051e+00 -1.07828176e-01 -9.52961902e-01 -2.51412361e-01]\n",
      " [-1.14793766e+00  1.94872959e-03 -2.85222882e-01  5.22334459e-03]\n",
      " [-1.26568317e+00 -8.05704413e-01  1.09516234e-01 -9.53831987e-01]\n",
      " [-1.35667380e+00 -6.48454376e-01 -1.63891185e-01 -8.67063642e-01]\n",
      " [-1.30694296e+00  3.04778929e-01  2.12198323e-01  1.16197156e+00]\n",
      " [-1.28171170e+00  1.34188009e-01 -9.82900823e-01  1.79854756e-01]\n",
      " [-1.10649524e+00  1.14487988e+00 -3.95779992e-01  1.06096469e+00]\n",
      " [-1.21107682e+00 -7.13004193e-01 -2.47100907e-01 -7.59434793e-01]\n",
      " [-1.30346906e+00 -6.49551882e-01 -2.83108500e-01 -7.59139829e-01]\n",
      " [-1.32041190e+00 -1.52014304e-01 -1.25975836e-01 -3.42114810e-01]\n",
      " [-1.35929475e+00 -3.01952911e-01 -9.48987736e-01 -4.65028893e-01]\n",
      " [-1.34710578e+00  4.67526169e-02 -2.57399940e-01  7.77421274e-01]\n",
      " [-1.26007635e+00  5.59735297e-01 -5.30826613e-01  3.95731319e-01]\n",
      " [-1.29182875e+00 -2.50140988e-01 -9.59738815e-01 -1.85479678e-01]\n",
      " [-1.32857831e+00 -2.85630057e-01 -7.69916179e-01 -3.15601503e-01]\n",
      " [-1.36441391e+00 -2.81699946e-01 -1.13119500e+00 -1.27988299e-01]\n",
      " [-1.27762850e+00  5.60688979e-01 -5.72956289e-01  3.11617209e-01]\n",
      " [-1.35588148e+00 -5.64438399e-01  5.60312433e-01 -8.23516569e-01]\n",
      " [-1.34247391e+00  5.50553806e-02 -8.87731319e-01  7.79755966e-03]\n",
      " [-1.15738441e+00  1.23072221e+00  1.91476436e-01  1.26632590e+00]\n",
      " [-1.09735351e+00  3.55664094e-01 -2.01497722e-01  6.90226759e-01]\n",
      " [-9.60410593e-01  8.46029368e-01 -2.52638368e-01  4.18322417e-01]\n",
      " [-9.59983935e-01 -3.44322788e-02 -6.35095028e-01 -3.73161246e-01]\n",
      " [-9.52792486e-01  7.80720362e-03 -9.50715833e-01  5.37804772e-03]\n",
      " [-9.30181811e-01  1.03851429e-01 -1.30912546e+00 -4.80193291e-02]\n",
      " [-1.02482935e+00 -6.24037488e-01 -7.82220395e-01 -5.24414504e-01]\n",
      " [-9.35483984e-01  5.29271778e-01 -1.06827599e+00  1.58606007e-01]\n",
      " [-9.58460313e-01 -1.79754156e-01 -1.01934649e+00 -1.57399645e-01]\n",
      " [-9.71685243e-01 -1.19644785e-01 -1.22463280e+00 -1.94725474e-01]\n",
      " [-8.83741860e-01  5.13516547e-01 -5.60039554e-01  6.76590888e-01]\n",
      " [-9.14701951e-01 -2.27064838e-01 -9.80897299e-01 -2.59236279e-01]\n",
      " [-1.10363101e+00 -1.20455904e+00  6.28538652e-02 -7.86107641e-01]\n",
      " [-1.22832394e+00 -8.42431307e-01 -3.13605333e-01 -2.97640902e-01]\n",
      " [-1.08644451e+00  9.07400431e-01 -3.26166201e-01  8.60504451e-01]\n",
      " [-1.18103105e+00 -6.45487468e-01 -7.27011497e-01 -1.98517995e-01]\n",
      " [-1.13964925e+00  2.35209468e-01 -7.68697826e-01 -1.03747765e-01]\n",
      " [-9.80948980e-01  9.96780657e-01 -8.69712968e-02  9.11085074e-01]\n",
      " [-9.67602042e-01  4.66483445e-02 -1.13584860e+00 -8.26564484e-02]\n",
      " [-9.51085852e-01  6.62133889e-02 -1.11694436e+00  1.83593572e-01]\n",
      " [-1.01227473e+00 -4.18379205e-01 -8.36907254e-01 -2.90597074e-01]\n",
      " [-9.46698001e-01  3.77378881e-01 -1.12153320e+00  2.99757265e-01]\n",
      " [-8.30963778e-01  6.83341817e-01 -8.51132933e-01  6.80377548e-01]\n",
      " [-8.01649317e-01  1.40643013e-01 -1.08846224e+00  1.18742304e-01]\n",
      " [-8.11582987e-01 -9.69327422e-02 -1.25983467e+00  9.11934088e-03]\n",
      " [-8.21943687e-01 -9.96435586e-02 -1.27407143e+00 -7.64630378e-02]\n",
      " [-8.14752238e-01  6.41849985e-03 -1.30874449e+00  6.21661784e-02]\n",
      " [-6.96824090e-01  6.75333336e-01 -7.40417883e-01  5.26405696e-01]\n",
      " [-6.91034254e-01 -3.01787130e-03 -5.98870475e-01 -2.91463898e-01]\n",
      " [-6.85000773e-01 -1.62853571e-03 -1.28865878e+00  6.57814168e-02]\n",
      " [-7.98297053e-01 -7.02240360e-01 -3.33808090e-01 -9.01971893e-01]\n",
      " [-7.57281283e-01  2.09780021e-01  6.75467937e-02  1.20474909e-01]\n",
      " [-7.48200559e-01  1.70657802e-02 -8.79630554e-01  8.53805439e-02]\n",
      " [-6.79088928e-01  3.74297932e-01 -8.71575993e-01  4.39750474e-01]\n",
      " [-6.72019489e-01  4.35362333e-03 -1.24707591e+00  1.72560224e-01]\n",
      " [-6.56783275e-01  5.21009812e-02 -1.26247064e+00  1.00351356e-01]\n",
      " [-8.35473638e-01 -1.07976293e+00 -5.74933719e-01 -1.68491135e-01]\n",
      " [-7.79343291e-01  3.03578177e-01 -1.07353970e+00  1.93936834e-01]\n",
      " [-7.02796567e-01  4.21705239e-01 -1.07316928e+00  3.44094295e-01]\n",
      " [-6.92435867e-01  2.39655377e-02 -1.29768676e+00 -4.46955676e-02]\n",
      " [-5.65975290e-01  7.06534351e-01 -2.98480987e-01  1.14166357e+00]\n",
      " [-4.62552047e-01  5.54771114e-01 -3.58740391e-01  7.08263502e-01]\n",
      " [-5.46655875e-01 -5.08082555e-01 -3.44187174e-01 -3.54390386e-01]\n",
      " [-5.23801554e-01  9.31602585e-02 -6.85535645e-01  6.61315167e-02]\n",
      " [-5.59332509e-01 -2.38631292e-01 -1.11756418e+00 -2.00855258e-01]\n",
      " [-5.60917135e-01 -4.61523308e-02 -9.62101714e-01 -1.12420558e-01]\n",
      " [-5.22460573e-01  1.82745930e-01 -2.81817755e-01 -5.48567326e-01]\n",
      " [-5.28189405e-01 -6.95819044e-02 -6.69867990e-01 -1.50344323e-01]\n",
      " [-5.15025479e-01  3.76391741e-02 -1.15888360e+00  2.58926351e-01]\n",
      " [-4.48839455e-01  3.37625628e-01 -7.62798303e-01  3.16375489e-01]\n",
      " [-4.98326648e-01 -3.13441847e-01 -1.05960951e+00 -3.90501537e-01]\n",
      " [-4.59017142e-01  1.84683796e-01 -1.05251243e+00  1.70211072e-01]\n",
      " [-3.75035323e-01  4.32861603e-01 -1.06539089e+00  1.86043747e-01]\n",
      " [-3.42368597e-01  1.42578412e-01 -1.36719250e+00  3.10335790e-02]\n",
      " [-2.98244581e-01  2.03992489e-01 -1.50250829e+00  1.11613880e-01]\n",
      " [-1.47649707e-01  7.78458427e-01 -8.61047813e-01  7.03072438e-01]\n",
      " [ 1.73886961e-02  8.30480775e-01 -7.58912253e-01  6.46439722e-01]\n",
      " [-1.82028917e-02 -2.18372274e-01 -1.13157097e+00 -4.39330327e-01]\n",
      " [-8.87852208e-03  1.07153087e-02 -1.28405928e+00  2.41346081e-02]\n",
      " [ 1.62986047e-01  8.42604284e-01  1.23316308e-01  1.32500008e+00]\n",
      " [ 2.58547537e-01  4.36612398e-01 -1.01101845e+00  4.78231175e-01]\n",
      " [ 9.60510348e-01  3.38263262e+00  2.03438873e+00  2.32738081e+00]\n",
      " [ 9.21322850e-01 -2.06549623e-01  1.77616773e+00 -1.72426668e-01]\n",
      " [ 1.03973866e+00  4.78185143e-01 -3.14718054e-01 -4.26222786e-02]\n",
      " [ 1.27852094e+00  9.82502793e-01 -8.55584726e-01  2.51016509e-01]\n",
      " [ 1.50377289e+00  8.89739547e-01 -3.51493765e-01  8.89591744e-01]\n",
      " [ 2.08025007e+00  2.25621566e+00  1.12971568e+00  1.65544816e+00]\n",
      " [ 1.85725305e+00 -8.54782203e-01  2.65988506e-01  3.31987992e-01]\n",
      " [ 2.11236813e+00  9.27564507e-01  1.99400392e-01  9.28723749e-01]\n",
      " [ 2.21018492e+00  3.20020835e-01 -9.87119702e-01 -9.93768845e-02]\n",
      " [ 2.16252563e+00 -2.08824391e-01 -8.08584093e-01 -1.33987529e-01]\n",
      " [ 1.80203666e+00 -1.34433584e+00  3.30028754e-01  3.47827764e-01]\n",
      " [ 9.52221936e-01 -3.27551700e+00  4.42778304e+00 -3.78356719e+00]\n",
      " [ 1.22312153e+00  1.13587299e+00  1.50897724e+00  1.69725827e+00]\n",
      " [ 1.19606237e+00 -1.49383669e-01  2.54172586e-02 -1.04690002e+00]\n",
      " [ 1.01267950e+00 -8.01255094e-01 -4.90840781e-01 -3.89839172e-01]\n",
      " [ 8.90606776e-01 -5.60586181e-01  2.37293097e-01 -1.14827101e-01]\n",
      " [ 1.14255260e+00  1.06468827e+00  2.17248900e-01  1.52834170e+00]\n",
      " [ 1.35147175e+00  8.40718811e-01  4.82000518e-01  7.19664467e-01]\n",
      " [ 1.39638808e+00  1.45687575e-01 -5.07720549e-01 -2.63800900e-01]\n",
      " [ 1.64431208e+00  9.65032608e-01 -2.42533347e-01  1.03920598e+00]\n",
      " [ 1.76504346e+00  4.33450366e-01  5.29014326e-01 -1.30568652e-01]\n",
      " [ 1.47348347e+00 -1.15398462e+00  2.34286845e+00 -1.47649108e+00]\n",
      " [ 1.51596186e+00  1.32646022e-01  6.59605431e-01  9.86022798e-01]\n",
      " [ 1.30826205e+00 -8.61876679e-01 -8.24379416e-01 -4.64580126e-01]\n",
      " [ 1.64388505e+00  1.33765045e+00 -3.64866996e-01  9.78240555e-01]\n",
      " [ 1.69123932e+00  1.47476639e-01 -1.16521061e-01  1.88204500e-02]\n",
      " [ 1.38797766e+00 -1.21109995e+00  1.11359568e+00 -1.66964528e+00]\n",
      " [ 1.32459486e+00 -2.93617998e-01  2.08976928e-01 -3.81397128e-01]\n",
      " [ 9.00235795e-01 -1.77102101e+00  1.66720617e+00 -1.89970823e+00]\n",
      " [ 8.63912899e-01 -1.95693101e-01  9.38442783e-01  2.30762628e-01]\n",
      " [ 1.12439116e+00  1.10694615e+00 -6.80258629e-01  2.23105858e-01]\n",
      " [ 1.22927702e+00  4.04850878e-01 -3.85407715e-01  4.66419072e-01]\n",
      " [ 8.32160495e-01 -1.68344893e+00  5.21514553e-01 -1.58029408e+00]\n",
      " [ 9.12790793e-01  3.18876607e-01 -3.47398679e-01  2.52097019e-01]\n",
      " [ 6.04287588e-01 -1.38138414e+00  3.46127593e-01 -1.01846543e+00]\n",
      " [ 5.56141375e-01 -2.57880317e-01 -3.40324276e-01  4.32615569e-01]\n",
      " [ 6.62672865e-01  4.55450299e-01  2.00629139e-01  7.17320713e-01]\n",
      " [ 3.63616410e-01 -1.39501629e+00  1.26840793e+00 -2.00618559e+00]\n",
      " [ 3.98050403e-01  1.27534294e-01  3.42591628e-01  5.85677943e-01]\n",
      " [ 1.99187307e-01 -9.82112302e-01 -5.97482910e-01 -3.41615066e-01]\n",
      " [ 4.34373671e-01  1.12105346e+00  4.02512521e-01  7.09188181e-01]\n",
      " [ 8.63059582e-01  1.98712145e+00  4.50428943e-01  1.33549949e+00]\n",
      " [ 1.21733206e+00  1.51911435e+00  9.45496687e-01  1.78165281e+00]\n",
      " [ 1.38151715e+00  6.44826703e-01 -1.70452108e-01  5.68499481e-01]\n",
      " [ 1.34818049e+00 -1.72146701e-01 -3.68022631e-01 -5.53043725e-01]\n",
      " [ 1.33428488e+00 -9.36719791e-02 -3.91010739e-01 -3.27298387e-01]\n",
      " [ 1.23768744e+00 -4.31214505e-01 -2.76320854e-01  2.60433423e-01]\n",
      " [ 1.15504660e+00 -3.79264499e-01 -8.14127189e-01 -4.51472747e-01]\n",
      " [ 2.02655804e+00  3.61762884e+00  2.97334336e-01  1.35286240e+00]\n",
      " [ 1.72067542e+00 -1.16694310e+00  1.07179453e+00 -9.87341034e-01]\n",
      " [ 1.34604757e+00 -1.48128339e+00  1.39424392e+00 -1.50480432e+00]\n",
      " [ 1.20331445e+00 -6.18415243e-01  6.58982037e-01 -3.29919514e-01]\n",
      " [ 9.73308619e-01 -9.94462333e-01  8.81942768e-01 -1.45713811e+00]\n",
      " [ 1.16321300e+00  7.82401065e-01  1.10558693e+00  1.73203407e+00]\n",
      " [ 1.20148655e+00  1.23202102e-01 -4.66020763e-01  3.10664597e-01]\n",
      " [ 1.45635761e+00  1.02406592e+00 -3.32179699e-01  7.60950452e-01]\n",
      " [ 1.00134385e+00 -1.85993977e+00  1.56095829e+00 -2.06351656e+00]\n",
      " [ 1.11134887e+00  4.35493069e-01 -3.87174781e-01  8.73057123e-01]\n",
      " [ 9.94944340e-01 -5.28579258e-01  2.54398052e-01  1.21357442e-01]\n",
      " [ 7.82490660e-01 -9.50743354e-01  5.22629964e-01 -1.30232707e+00]\n",
      " [ 7.86269212e-01 -2.02782154e-02  4.71136714e-02 -3.86541153e-01]\n",
      " [ 4.67101029e-01 -1.45683653e+00  8.34312226e-01 -1.55189806e+00]\n",
      " [ 3.82387530e-01 -4.34830776e-01  1.63488357e+00  8.35887178e-01]\n",
      " [ 3.11691645e-01 -3.73978343e-01  2.23315236e-01  1.44937714e-01]\n",
      " [ 4.27547505e-01  5.21955599e-01  1.59277840e+00 -4.58888260e-01]\n",
      " [-2.32546219e-01 -3.15772674e+00  3.21196385e+00 -3.30342510e+00]\n",
      " [-1.27416342e-01  5.24837643e-01  1.20877787e+00  5.36083371e-01]\n",
      " [ 4.23342295e-01  2.84678608e+00  1.35391471e+00  2.18350657e+00]\n",
      " [ 3.90005637e-01 -1.94813635e-01 -1.99896442e-01 -1.16838399e-01]\n",
      " [ 2.34047586e-01 -7.79274108e-01 -6.52603073e-03 -7.10695321e-01]\n",
      " [ 1.45555907e-01 -4.70112201e-01  6.58247672e-01  3.15983798e-01]\n",
      " [ 3.41676410e-01  9.38214809e-01  5.22406993e-01  8.71261102e-01]\n",
      " [ 2.44286649e-01 -5.04538177e-01  1.18808121e-01 -5.19282013e-01]\n",
      " [ 3.33631645e-01  3.99284970e-01 -4.91014189e-01  5.48014614e-01]\n",
      " [ 3.94576501e-01  2.55839141e-01 -7.25671677e-01 -8.64220429e-02]\n",
      " [ 2.27282796e-01 -8.32577875e-01  2.13951944e-01 -1.15977820e-01]\n",
      " [-4.42264643e-02 -1.36730089e+00  1.14996518e+00 -1.60906571e+00]\n",
      " [ 5.18226887e-02  4.57853401e-01  2.19313762e-01  4.97065953e-01]\n",
      " [ 3.36252229e-01  1.40221838e+00 -5.71359772e-01  7.47684913e-01]\n",
      " [ 3.42103069e-01 -8.98725552e-03 -7.60054416e-01  3.11698050e-01]\n",
      " [ 5.54182269e-02 -1.41299329e+00  1.58252985e-01 -1.18965276e+00]\n",
      " [-6.26319300e-02 -6.34070396e-01  4.26293779e-01 -9.62474742e-01]\n",
      " [-2.78681148e-01 -1.15434127e+00  8.28742795e-01 -4.39179836e-01]\n",
      " [-6.29053439e-01 -1.92714349e+00  2.01266903e+00 -2.36178442e+00]\n",
      " [-4.05202729e-01  1.26130382e+00  3.19847212e+00  4.25830849e+00]\n",
      " [-3.49743059e-01  2.69830834e-01 -3.26620873e-02  3.21658471e-02]\n",
      " [ 1.93389762e-02  1.98254289e+00  9.73703962e-01  2.02496124e+00]\n",
      " [-1.75935919e-02 -2.25133020e-01 -1.91739309e-01 -1.72325150e-01]\n",
      " [ 7.69929441e-02  4.47852189e-01  5.23590841e-02  2.72543191e-01]\n",
      " [-1.70443396e-01 -1.28333567e+00  6.88528120e-01 -1.32340233e+00]\n",
      " [-1.76537881e-01 -6.92770117e-02 -4.03804555e-01 -3.68776223e-01]\n",
      " [-3.81982754e-01 -1.12319032e+00  1.17515900e+00 -1.78218957e+00]\n",
      " [-2.61190004e-01  6.28234574e-01  1.40093734e+00  1.08475957e+00]\n",
      " [-5.05039631e-02  1.09547070e+00 -5.27055937e-01  6.97115874e-01]\n",
      " [-1.76476877e-01 -6.87024934e-01  2.34142434e-01 -4.49223860e-01]\n",
      " [-4.38235109e-01 -1.42087695e+00  6.39514430e-01 -1.57406382e+00]\n",
      " [-6.14853184e-01 -1.02120547e+00  4.57510520e-01 -5.32183389e-01]\n",
      " [-3.98376935e-01  1.21471224e+00  5.68831544e-01  1.02682596e+00]\n",
      " [-1.64714564e-01  1.25424228e+00  2.58036995e-02  1.15334024e+00]\n",
      " [ 2.64694202e-02  9.71272634e-01  3.89281972e-01  1.45774430e+00]\n",
      " [ 2.32402328e-01  1.00997118e+00 -7.67800930e-02  1.05643229e+00]\n",
      " [ 3.28512113e-01  4.33336799e-01 -3.07506421e-01  2.08985297e-01]\n",
      " [ 7.72312602e-01  2.09800711e+00  1.17698909e+00  2.04857931e+00]\n",
      " [ 8.03577343e-01  1.02297178e-01  6.96696194e-01  5.88760921e-01]\n",
      " [ 8.93836660e-01  3.63258146e-01 -4.49880655e-01  1.31755825e-01]\n",
      " [ 8.73846940e-01 -1.24468020e-01 -8.81570088e-01  8.63729755e-02]\n",
      " [ 1.36871888e+00  2.13291769e+00 -2.39284892e-01  7.53122952e-01]\n",
      " [ 1.41582913e+00  1.54118716e-01 -3.44195394e-01 -2.16614780e-01]\n",
      " [ 1.38182217e+00 -1.74156784e-01 -7.57520596e-01  8.53432070e-02]\n",
      " [ 1.28193346e+00 -4.41737090e-01 -8.67042609e-01 -4.50988350e-01]\n",
      " [ 1.32453386e+00  1.38098622e-01 -8.14901778e-01  1.03057052e-01]\n",
      " [ 1.69544416e+00  1.47845097e+00  8.22416471e-01  1.53484267e+00]\n",
      " [ 1.36518434e+00 -1.31484660e+00  5.28753280e-01 -1.16657717e+00]\n",
      " [ 1.08788525e+00 -1.16322130e+00  9.49634159e-02 -7.56680877e-01]\n",
      " [ 1.15797183e+00  2.59912048e-01  2.13456962e-01  1.45926972e-01]\n",
      " [ 9.64349903e-01 -8.48690936e-01 -8.37078192e-01 -4.94937938e-01]\n",
      " [ 6.62307210e-01 -1.34237508e+00 -4.70946206e-01 -1.26475860e-01]\n",
      " [ 7.29468561e-01  2.67880328e-01 -5.74429281e-02 -3.09004616e-01]\n",
      " [ 9.45335138e-01  9.32199576e-01  2.09868276e-01  1.25661662e+00]\n",
      " [ 7.17584240e-01 -1.02432644e+00 -6.15640204e-01 -4.15298928e-01]\n",
      " [ 8.35146734e-01  4.91834134e-01 -2.08719435e-01  4.66207248e-01]\n",
      " [ 9.80561443e-01  6.04578901e-01 -3.19112130e-01  6.89911778e-01]\n",
      " [ 6.70047326e-01 -1.37551263e+00  5.30101962e-01 -1.51126093e+00]\n",
      " [ 8.62511286e-01  8.35738504e-01  1.90036320e+00 -1.81079827e+00]\n",
      " [ 8.39778602e-01 -1.36963279e-01 -2.35773283e-01 -2.79348896e-01]\n",
      " [ 7.96934562e-01 -2.26012745e-01 -5.21210735e-01  5.85703106e-01]\n",
      " [ 5.58448856e-02 -3.32786846e+00  3.77452488e+00 -3.53625762e+00]\n",
      " [ 8.68659811e-02  1.19762983e-01 -2.11427241e-02 -5.54555557e-01]\n",
      " [ 6.24880386e-02 -1.59653042e-01  1.67478333e+00 -7.31588430e-01]\n",
      " [ 2.13502606e-02 -2.44853311e-01  1.07425377e+00 -1.02615487e+00]\n",
      " [ 2.17470764e-01  9.61041824e-01  7.06245227e-01  1.46134972e+00]\n",
      " [ 2.55926953e-01  1.51647577e-01 -2.99185636e-01  2.07991038e-01]\n",
      " [ 5.20244765e-01  1.25118076e+00  1.06458241e+00  1.60551684e+00]\n",
      " [ 3.67084834e-02 -2.28654295e+00  2.12406850e+00 -2.06712988e+00]\n",
      " [-9.79247174e-03 -2.73076302e-01  2.05138326e-01 -7.04981993e-01]\n",
      " [-4.88453611e-01 -2.48758184e+00  1.38733183e+00 -1.74032404e+00]\n",
      " [-4.09651957e-01  4.06579621e-01  6.78099236e-01 -6.88672252e-01]\n",
      " [-8.12131654e-01 -2.26655080e+00  2.58959536e+00 -2.26639721e+00]\n",
      " [-8.48698568e-01 -2.57876003e-01  2.46886450e+00  1.15076699e+00]\n",
      " [-5.95228747e-01  1.50588637e+00 -5.82528344e-03 -1.40404827e-01]\n",
      " [-8.70821580e-01 -1.62408867e+00  9.16643552e-01 -1.64513547e+00]\n",
      " [-6.43862995e-01  1.35142429e+00  5.58795504e-03  5.74075108e-01]\n",
      " [-9.59557276e-01 -1.87405936e+00  1.47278357e+00 -1.37363692e+00]\n",
      " [-9.61934215e-01 -5.19369043e-02  3.77064869e-01  1.10207304e-01]\n",
      " [-1.23935495e+00 -1.77010938e+00  3.41266730e+00 -2.07145451e+00]\n",
      " [-1.17231561e+00  4.10403665e-01  6.07277376e-01  9.08631147e-01]\n",
      " [-1.45717218e+00 -1.90757658e+00  2.53685003e-01 -1.14233977e+00]\n",
      " [-1.27043705e+00  1.28031663e+00  9.30173199e-01  1.66985905e+00]\n",
      " [-9.72233911e-01  1.96887547e+00  1.77810093e+00  2.08476386e+00]]\n"
     ]
    }
   ],
   "source": [
    "print(X)"
   ]
  },
  {
   "cell_type": "code",
   "execution_count": 20,
   "metadata": {
    "pycharm": {
     "name": "#%%\n"
    }
   },
   "outputs": [],
   "source": [
    "Y = np.array(df_reg['EMA_10'])\n"
   ]
  },
  {
   "cell_type": "code",
   "execution_count": 21,
   "metadata": {
    "pycharm": {
     "name": "#%%\n"
    }
   },
   "outputs": [
    {
     "name": "stdout",
     "output_type": "stream",
     "text": [
      "[ 608.68082109  608.90067446  610.4987341   608.47350705  607.81832306\n",
      "  609.41498716  611.94135269  613.55747349  615.40339139  622.88823065\n",
      "  633.23946278  640.26319593  649.07351861  654.83469882  659.35566489\n",
      "  662.73099544  665.67081889  664.56340038  660.94278657  659.46409766\n",
      "  659.00699121  663.86026776  664.71112417  662.65092066  660.45983974\n",
      "  657.50713628  655.45492436  656.37221084  656.17544124  654.91809006\n",
      "  652.82025639  653.69293616  652.07240764  651.14651179  655.91077793\n",
      "  661.59972962  670.33977567  677.50345105  683.57918411  689.22478789\n",
      "  691.02027656  695.15477351  697.85208564  699.66443504  703.77090139\n",
      "  706.20709803  702.56398619  695.86326543  694.61357903  690.7692866\n",
      "  688.858509    692.02968696  695.02246937  697.9638408   698.54495577\n",
      "  700.97677889  706.41917784  711.74659473  715.80903693  718.82376015\n",
      "  721.504896    727.21672999  732.06277819  736.20772495  736.21905124\n",
      "  737.45195101  738.73159451  741.84039861  744.59486982  747.30307353\n",
      "  744.18796614  743.31379137  744.88219338  746.47452452  751.55006818\n",
      "  758.78823494  762.20128269  765.67559448  767.45821012  768.86943931\n",
      "  771.17136477  772.88384878  774.67769446  778.11992917  779.45994027\n",
      "  781.72904248  786.09102943  790.63448173  795.66821366  804.27945287\n",
      "  816.24864059  824.9798004   832.40165265  843.60135217  855.61565044\n",
      "  886.3873477   910.39510133  933.57053479  959.6558992   987.71846298\n",
      " 1027.87691805 1054.08111476 1083.13181851 1109.81876681 1130.23171209\n",
      " 1136.17866287 1115.69163326 1107.01132742 1099.10199694 1087.15982367\n",
      " 1073.74713112 1070.28946737 1073.69320235 1077.81807554 1088.58934518\n",
      " 1101.00400881 1102.46328526 1104.92450612 1100.74187663 1107.33244274\n",
      " 1114.13745493 1110.65791767 1105.92011002 1089.38372105 1074.770319\n",
      " 1070.58480645 1070.28938    1058.2003996  1050.71487772 1035.38671325\n",
      " 1021.4091308  1013.15110524  997.47271937  985.67222627  970.08454921\n",
      "  964.34736377  972.44238765  989.63468081 1008.59927364 1023.12121856\n",
      " 1034.58825908 1041.0885694  1043.94156211 1072.27582887 1086.33294468\n",
      " 1086.65786294 1082.66551534 1072.53723273 1069.9159168  1068.91302727\n",
      " 1075.6961079  1067.67137166 1064.38748324 1058.22794261 1046.8501393\n",
      " 1037.65375389 1020.60762126 1004.1335083   988.54560214  979.24821505\n",
      "  951.94853515  932.74879704  933.47082862  933.0670416   928.08393824\n",
      "  921.36686123  921.7219787   919.10707836  919.63306412  921.88159791\n",
      "  918.73039607  908.05214224  902.18084543  905.86250856  909.04932785\n",
      "  903.10399108  894.71780733  881.4109386   860.07076395  849.28881042\n",
      "  842.12175309  847.26870574  850.37803108  855.74384628  852.75223387\n",
      "  850.12273281  841.84223904  838.67092729  842.36166246  841.62317615\n",
      "  833.20986696  821.05716299  817.57222693  821.69181848  830.76602886\n",
      "  844.33402628  858.30238025  882.97103484  904.08720766  924.05680316\n",
      "  939.79920525  967.4429799   991.4660647  1010.10677843 1022.37826882\n",
      " 1033.68948646 1054.00957095 1060.78237801 1058.05103833 1057.90721495\n",
      " 1052.0131741  1038.17986838 1028.86534908 1027.68437563 1019.92358006\n",
      " 1017.08110696 1019.09363741 1011.47661465 1010.9863264  1009.90699211\n",
      " 1007.74572437  983.86831683  965.25771554  949.30358722  935.02293677\n",
      "  929.18967599  925.56428035  930.48350122  920.08286996  910.18598895\n",
      "  887.80853375  871.85061453  846.78686643  825.18925435  815.0803039\n",
      "  798.58752048  791.86433228  776.94536233  764.66802062  746.34656676\n",
      "  733.35628634  714.22968394  704.15155737  704.80217975]\n"
     ]
    }
   ],
   "source": [
    "print(Y)"
   ]
  },
  {
   "cell_type": "code",
   "execution_count": 22,
   "metadata": {
    "pycharm": {
     "name": "#%%\n"
    }
   },
   "outputs": [],
   "source": [
    "X_lately = X[-10:]  # 倒数十条数据\n",
    "X = X[:-10]  # 除去后十条的数据\n",
    "Y = Y[:-10]  # 除去后十条的数据\n"
   ]
  },
  {
   "cell_type": "code",
   "execution_count": 23,
   "metadata": {
    "pycharm": {
     "name": "#%%\n"
    }
   },
   "outputs": [
    {
     "name": "stdout",
     "output_type": "stream",
     "text": [
      "[[-1.56711656  0.47440587 -0.79703727  0.31510417]\n",
      " [-1.56851818 -0.04727736 -1.12225912 -0.0078039 ]\n",
      " [-1.52098126  0.30832198 -0.79574267  0.27315062]\n",
      " [-1.63269329 -0.83858203 -0.61636497 -0.82452899]\n",
      " [-1.59911261  0.21119836 -0.85890131  0.3724442 ]]\n",
      "(234, 4)\n",
      "(234,)\n"
     ]
    }
   ],
   "source": [
    "print(X[:5])\n",
    "print(X.shape)\n",
    "print(Y.shape)\n"
   ]
  },
  {
   "cell_type": "markdown",
   "metadata": {
    "pycharm": {
     "name": "#%% md\n"
    }
   },
   "source": [
    "11. 模型训练"
   ]
  },
  {
   "cell_type": "code",
   "execution_count": 24,
   "metadata": {
    "pycharm": {
     "name": "#%%\n"
    }
   },
   "outputs": [],
   "source": [
    "from sklearn.linear_model import LinearRegression  # LinearRegression ————> 线性回归\n",
    "from sklearn.neighbors import KNeighborsRegressor # KNeighborsRegressor ————> k近邻回归\n",
    "from sklearn.pipeline import make_pipeline\n",
    "from sklearn.model_selection import train_test_split  # 训练集和测试集的划分\n"
   ]
  },
  {
   "cell_type": "code",
   "execution_count": 25,
   "metadata": {
    "pycharm": {
     "name": "#%%\n"
    }
   },
   "outputs": [],
   "source": [
    "X_train, X_test, Y_train, Y_test = train_test_split(\n",
    "    X, Y, test_size=.2, random_state=2022)\n"
   ]
  },
  {
   "cell_type": "markdown",
   "metadata": {
    "pycharm": {
     "name": "#%% md\n"
    }
   },
   "source": [
    "- 进行线性回归"
   ]
  },
  {
   "cell_type": "code",
   "execution_count": 26,
   "metadata": {
    "pycharm": {
     "name": "#%%\n"
    }
   },
   "outputs": [],
   "source": [
    "clfreg = LinearRegression(n_jobs=-1)  # n_jobs表示启动设备cpu的核心个数,-1表示启动所有的核心\n",
    "clfreg.fit(X_train, Y_train)  # 训练\n",
    "confidencereg = clfreg.score(X_test, Y_test)  # 利用测试集进行评估\n"
   ]
  },
  {
   "cell_type": "code",
   "execution_count": 27,
   "metadata": {
    "pycharm": {
     "name": "#%%\n"
    }
   },
   "outputs": [
    {
     "name": "stdout",
     "output_type": "stream",
     "text": [
      "线性回归模型决定系数为  0.9607696648538135\n"
     ]
    }
   ],
   "source": [
    "print('线性回归模型决定系数为 ', confidencereg)\n"
   ]
  },
  {
   "cell_type": "code",
   "execution_count": 28,
   "metadata": {
    "pycharm": {
     "name": "#%%\n"
    }
   },
   "outputs": [],
   "source": [
    "forecast_set = clfreg.predict(X_lately)  # 进行预测\n",
    "df_reg[\"Forecast\"] = np.nan  # 建立全是NaN的列表,用来给后面更新\n"
   ]
  },
  {
   "cell_type": "code",
   "execution_count": 29,
   "metadata": {
    "pycharm": {
     "name": "#%%\n"
    }
   },
   "outputs": [
    {
     "name": "stdout",
     "output_type": "stream",
     "text": [
      "(10,)\n"
     ]
    }
   ],
   "source": [
    "print(forecast_set.shape)"
   ]
  },
  {
   "cell_type": "code",
   "execution_count": 30,
   "metadata": {
    "pycharm": {
     "name": "#%%\n"
    }
   },
   "outputs": [
    {
     "data": {
      "text/html": [
       "<div>\n",
       "<style scoped>\n",
       "    .dataframe tbody tr th:only-of-type {\n",
       "        vertical-align: middle;\n",
       "    }\n",
       "\n",
       "    .dataframe tbody tr th {\n",
       "        vertical-align: top;\n",
       "    }\n",
       "\n",
       "    .dataframe thead th {\n",
       "        text-align: right;\n",
       "    }\n",
       "</style>\n",
       "<table border=\"1\" class=\"dataframe\">\n",
       "  <thead>\n",
       "    <tr style=\"text-align: right;\">\n",
       "      <th></th>\n",
       "      <th>Adj Close</th>\n",
       "      <th>EMA_10</th>\n",
       "      <th>Return</th>\n",
       "      <th>HL_PCT</th>\n",
       "      <th>PCT_change</th>\n",
       "      <th>Forecast</th>\n",
       "    </tr>\n",
       "    <tr>\n",
       "      <th>Date</th>\n",
       "      <th></th>\n",
       "      <th></th>\n",
       "      <th></th>\n",
       "      <th></th>\n",
       "      <th></th>\n",
       "      <th></th>\n",
       "    </tr>\n",
       "  </thead>\n",
       "  <tbody>\n",
       "    <tr>\n",
       "      <th>2021-06-10</th>\n",
       "      <td>610.119995</td>\n",
       "      <td>608.680821</td>\n",
       "      <td>0.018938</td>\n",
       "      <td>2.637191</td>\n",
       "      <td>1.033316</td>\n",
       "      <td>NaN</td>\n",
       "    </tr>\n",
       "    <tr>\n",
       "      <th>2021-06-11</th>\n",
       "      <td>609.890015</td>\n",
       "      <td>608.900674</td>\n",
       "      <td>-0.000377</td>\n",
       "      <td>1.810159</td>\n",
       "      <td>-0.055711</td>\n",
       "      <td>NaN</td>\n",
       "    </tr>\n",
       "    <tr>\n",
       "      <th>2021-06-14</th>\n",
       "      <td>617.690002</td>\n",
       "      <td>610.498734</td>\n",
       "      <td>0.012789</td>\n",
       "      <td>2.640483</td>\n",
       "      <td>0.891825</td>\n",
       "      <td>NaN</td>\n",
       "    </tr>\n",
       "    <tr>\n",
       "      <th>2021-06-15</th>\n",
       "      <td>599.359985</td>\n",
       "      <td>608.473507</td>\n",
       "      <td>-0.029675</td>\n",
       "      <td>3.096636</td>\n",
       "      <td>-2.810167</td>\n",
       "      <td>NaN</td>\n",
       "    </tr>\n",
       "    <tr>\n",
       "      <th>2021-06-16</th>\n",
       "      <td>604.869995</td>\n",
       "      <td>607.818323</td>\n",
       "      <td>0.009193</td>\n",
       "      <td>2.479872</td>\n",
       "      <td>1.226699</td>\n",
       "      <td>NaN</td>\n",
       "    </tr>\n",
       "    <tr>\n",
       "      <th>...</th>\n",
       "      <td>...</td>\n",
       "      <td>...</td>\n",
       "      <td>...</td>\n",
       "      <td>...</td>\n",
       "      <td>...</td>\n",
       "      <td>...</td>\n",
       "    </tr>\n",
       "    <tr>\n",
       "      <th>2022-05-20</th>\n",
       "      <td>663.900024</td>\n",
       "      <td>746.346567</td>\n",
       "      <td>-0.064165</td>\n",
       "      <td>13.342373</td>\n",
       "      <td>-7.015500</td>\n",
       "      <td>NaN</td>\n",
       "    </tr>\n",
       "    <tr>\n",
       "      <th>2022-05-23</th>\n",
       "      <td>674.900024</td>\n",
       "      <td>733.356286</td>\n",
       "      <td>0.016569</td>\n",
       "      <td>6.208331</td>\n",
       "      <td>3.035022</td>\n",
       "      <td>NaN</td>\n",
       "    </tr>\n",
       "    <tr>\n",
       "      <th>2022-05-24</th>\n",
       "      <td>628.159973</td>\n",
       "      <td>714.229684</td>\n",
       "      <td>-0.069255</td>\n",
       "      <td>5.309153</td>\n",
       "      <td>-3.882003</td>\n",
       "      <td>NaN</td>\n",
       "    </tr>\n",
       "    <tr>\n",
       "      <th>2022-05-25</th>\n",
       "      <td>658.799988</td>\n",
       "      <td>704.151557</td>\n",
       "      <td>0.048777</td>\n",
       "      <td>7.029447</td>\n",
       "      <td>5.602310</td>\n",
       "      <td>NaN</td>\n",
       "    </tr>\n",
       "    <tr>\n",
       "      <th>2022-05-26</th>\n",
       "      <td>707.729980</td>\n",
       "      <td>704.802180</td>\n",
       "      <td>0.074271</td>\n",
       "      <td>9.185708</td>\n",
       "      <td>7.001602</td>\n",
       "      <td>NaN</td>\n",
       "    </tr>\n",
       "  </tbody>\n",
       "</table>\n",
       "<p>244 rows × 6 columns</p>\n",
       "</div>"
      ],
      "text/plain": [
       "             Adj Close      EMA_10    Return     HL_PCT  PCT_change  Forecast\n",
       "Date                                                                         \n",
       "2021-06-10  610.119995  608.680821  0.018938   2.637191    1.033316       NaN\n",
       "2021-06-11  609.890015  608.900674 -0.000377   1.810159   -0.055711       NaN\n",
       "2021-06-14  617.690002  610.498734  0.012789   2.640483    0.891825       NaN\n",
       "2021-06-15  599.359985  608.473507 -0.029675   3.096636   -2.810167       NaN\n",
       "2021-06-16  604.869995  607.818323  0.009193   2.479872    1.226699       NaN\n",
       "...                ...         ...       ...        ...         ...       ...\n",
       "2022-05-20  663.900024  746.346567 -0.064165  13.342373   -7.015500       NaN\n",
       "2022-05-23  674.900024  733.356286  0.016569   6.208331    3.035022       NaN\n",
       "2022-05-24  628.159973  714.229684 -0.069255   5.309153   -3.882003       NaN\n",
       "2022-05-25  658.799988  704.151557  0.048777   7.029447    5.602310       NaN\n",
       "2022-05-26  707.729980  704.802180  0.074271   9.185708    7.001602       NaN\n",
       "\n",
       "[244 rows x 6 columns]"
      ]
     },
     "execution_count": 30,
     "metadata": {},
     "output_type": "execute_result"
    }
   ],
   "source": [
    "df_reg  # 应该是print(df_reg)\n"
   ]
  },
  {
   "cell_type": "code",
   "execution_count": 31,
   "metadata": {
    "pycharm": {
     "name": "#%%\n"
    }
   },
   "outputs": [],
   "source": [
    "last_date = df_reg.iloc[-1].name  # 索引最后一行数据的行标题\n"
   ]
  },
  {
   "cell_type": "code",
   "execution_count": 32,
   "metadata": {
    "pycharm": {
     "name": "#%%\n"
    }
   },
   "outputs": [
    {
     "name": "stdout",
     "output_type": "stream",
     "text": [
      "2022-05-26 00:00:00\n"
     ]
    }
   ],
   "source": [
    "print(last_date)\n"
   ]
  },
  {
   "cell_type": "code",
   "execution_count": 33,
   "metadata": {
    "pycharm": {
     "name": "#%%\n"
    }
   },
   "outputs": [],
   "source": [
    "last_unix = last_date\n",
    "next_unix = last_unix + datetime.timedelta(days=1)  # 数学里面的Δ,变化days=1为一天\n"
   ]
  },
  {
   "cell_type": "code",
   "execution_count": 34,
   "metadata": {
    "pycharm": {
     "name": "#%%\n"
    }
   },
   "outputs": [
    {
     "name": "stdout",
     "output_type": "stream",
     "text": [
      "2022-05-27 00:00:00\n"
     ]
    }
   ],
   "source": [
    "print(next_unix)"
   ]
  },
  {
   "cell_type": "code",
   "execution_count": 35,
   "metadata": {
    "collapsed": false,
    "pycharm": {
     "name": "#%%\n"
    }
   },
   "outputs": [
    {
     "name": "stdout",
     "output_type": "stream",
     "text": [
      "Adj Close            NaN\n",
      "EMA_10               NaN\n",
      "Return               NaN\n",
      "HL_PCT               NaN\n",
      "PCT_change           NaN\n",
      "Forecast      733.291745\n",
      "Name: 2022-05-27 00:00:00, dtype: float64\n",
      "Adj Close            NaN\n",
      "EMA_10               NaN\n",
      "Return               NaN\n",
      "HL_PCT               NaN\n",
      "PCT_change           NaN\n",
      "Forecast      792.563413\n",
      "Name: 2022-05-28 00:00:00, dtype: float64\n",
      "Adj Close            NaN\n",
      "EMA_10               NaN\n",
      "Return               NaN\n",
      "HL_PCT               NaN\n",
      "PCT_change           NaN\n",
      "Forecast      734.290051\n",
      "Name: 2022-05-29 00:00:00, dtype: float64\n",
      "Adj Close            NaN\n",
      "EMA_10               NaN\n",
      "Return               NaN\n",
      "HL_PCT               NaN\n",
      "PCT_change           NaN\n",
      "Forecast      797.872917\n",
      "Name: 2022-05-30 00:00:00, dtype: float64\n",
      "Adj Close            NaN\n",
      "EMA_10               NaN\n",
      "Return               NaN\n",
      "HL_PCT               NaN\n",
      "PCT_change           NaN\n",
      "Forecast      732.766092\n",
      "Name: 2022-05-31 00:00:00, dtype: float64\n",
      "Adj Close            NaN\n",
      "EMA_10               NaN\n",
      "Return               NaN\n",
      "HL_PCT               NaN\n",
      "PCT_change           NaN\n",
      "Forecast      784.610343\n",
      "Name: 2022-06-01 00:00:00, dtype: float64\n",
      "Adj Close            NaN\n",
      "EMA_10               NaN\n",
      "Return               NaN\n",
      "HL_PCT               NaN\n",
      "PCT_change           NaN\n",
      "Forecast      696.549787\n",
      "Name: 2022-06-02 00:00:00, dtype: float64\n",
      "Adj Close            NaN\n",
      "EMA_10               NaN\n",
      "Return               NaN\n",
      "HL_PCT               NaN\n",
      "PCT_change           NaN\n",
      "Forecast      706.055959\n",
      "Name: 2022-06-03 00:00:00, dtype: float64\n",
      "Adj Close           NaN\n",
      "EMA_10              NaN\n",
      "Return              NaN\n",
      "HL_PCT              NaN\n",
      "PCT_change          NaN\n",
      "Forecast      666.35815\n",
      "Name: 2022-06-04 00:00:00, dtype: float64\n",
      "Adj Close            NaN\n",
      "EMA_10               NaN\n",
      "Return               NaN\n",
      "HL_PCT               NaN\n",
      "PCT_change           NaN\n",
      "Forecast      706.743255\n",
      "Name: 2022-06-05 00:00:00, dtype: float64\n"
     ]
    }
   ],
   "source": [
    "for i in forecast_set:\n",
    "    next_date = next_unix\n",
    "    next_unix+=datetime.timedelta(days = 1)\n",
    "    df_reg.loc[next_date] = [np.nan for _ in range(len(df_reg.columns)-1)]+[i]\n",
    "    print(df_reg.loc[next_date])\n"
   ]
  },
  {
   "cell_type": "code",
   "execution_count": 36,
   "metadata": {
    "pycharm": {
     "name": "#%%\n"
    }
   },
   "outputs": [
    {
     "data": {
      "image/png": "[encoded data removed]",
      "text/plain": [
       "<Figure size 576x504 with 1 Axes>"
      ]
     },
     "metadata": {},
     "output_type": "display_data"
    }
   ],
   "source": [
    "df_reg[\"Adj Close\"].tail(200).plot()\n",
    "df_reg['Forecast'].tail(200).plot()\n",
    "plt.legend()\n",
    "plt.xlabel('Date')\n",
    "plt.ylabel('Price')\n",
    "plt.show()\n"
   ]
  }
 ],
 "metadata": {
  "kernelspec": {
   "display_name": "Python 3.9.13 ('env_0')",
   "language": "python",
   "name": "python3"
  },
  "language_info": {
   "codemirror_mode": {
    "name": "ipython",
    "version": 3
   },
   "file_extension": ".py",
   "mimetype": "text/x-python",
   "name": "python",
   "nbconvert_exporter": "python",
   "pygments_lexer": "ipython3",
   "version": "3.9.13"
  },
  "orig_nbformat": 4,
  "vscode": {
   "interpreter": {
    "hash": "cf2572806588c48583be924b8524523e80da916cba05c41f13e1f185b65fac1c"
   }
  }
 },
 "nbformat": 4,
 "nbformat_minor": 2
}
